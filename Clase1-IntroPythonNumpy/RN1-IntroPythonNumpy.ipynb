{
  "nbformat": 4,
  "nbformat_minor": 0,
  "metadata": {
    "colab": {
      "name": "RN_Practica0.ipynb",
      "version": "0.3.2",
      "views": {},
      "default_view": {},
      "provenance": [
        {
          "file_id": "1xBB0Hfs4hggQT9o07HTqvyBm2tSbrkR7",
          "timestamp": 1522285912112
        },
        {
          "file_id": "1Zmll04mxUFb2_-pGSFCGRsUAJp5lgS3c",
          "timestamp": 1521736628424
        }
      ]
    },
    "kernelspec": {
      "name": "python3",
      "display_name": "Python 3"
    }
  },
  "cells": [
    {
      "metadata": {
        "id": "6-VA1v4W5q1H",
        "colab_type": "text"
      },
      "cell_type": "markdown",
      "source": [
        "# REDES NEURONALES DC-UBA - 2018\n",
        "# Tutorial Python & Numpy"
      ]
    },
    {
      "metadata": {
        "id": "8kXrQkBl5q1J",
        "colab_type": "text"
      },
      "cell_type": "markdown",
      "source": [
        "**Introducción**\n",
        "\n",
        "Este tutorial es una introducción amigable al lenguaje de programación Python, y a la librería de procesamiento científico Numpy.\n",
        "\n",
        "**Para poder modificar y/o correr el código, hagan una copia de esta Jupyter Notebook a su computadora. Luego, súbanlo a su cuenta de GoogleColab (File/Upload notebook...). También pueden correrlo en forma local en sus computadoras, tras instalar Python, Numpy, Matplotlib, y Jupyter Notebook.**\n",
        "\n",
        "**Tareas:**\n",
        "\n",
        "* Leer el tutorial.\n",
        "* Hacer los ejercicios intercalados en el tutorial.\n",
        "* Modificar el código del tutorial, para experimentar con los ejemplos."
      ]
    },
    {
      "metadata": {
        "id": "ay9mgFSO5q1M",
        "colab_type": "text"
      },
      "cell_type": "markdown",
      "source": [
        "##Introducción"
      ]
    },
    {
      "metadata": {
        "id": "fcfkw97U5q1N",
        "colab_type": "text"
      },
      "cell_type": "markdown",
      "source": [
        "Python es un lenguaje de programación de propósito general, que posee algunas librerías (numpy, scipy, matplotlib) que lo hacen muy poderoso para su uso en computación científica.\n",
        "\n",
        "Para los que ya posean experiencia previa en Matlab, una página recomendable que también pueden consultar es: https://docs.scipy.org/doc/numpy-dev/user/numpy-for-matlab-users.html"
      ]
    },
    {
      "metadata": {
        "id": "qo36kJw25q1P",
        "colab_type": "text"
      },
      "cell_type": "markdown",
      "source": [
        "En este tutorial, cubriremos los siguientes temas:\n",
        "\n",
        "* Python Básico: Tipos de datos básicos (Contenedores: Listas, Diccionarios, Conjuntos, Tuplas), Funciones, Clases\n",
        "* Numpy: Arrays, Indexado, Tipos de datos, Broadcasting\n",
        "* Matplotlib: Ploteo, Subplots, Imágenes"
      ]
    },
    {
      "metadata": {
        "id": "CV6OV42I5q1R",
        "colab_type": "text"
      },
      "cell_type": "markdown",
      "source": [
        "##Conceptos básicos de Python"
      ]
    },
    {
      "metadata": {
        "id": "B9MacMaY5q1T",
        "colab_type": "text"
      },
      "cell_type": "markdown",
      "source": [
        "Python es un lenguaje de programación de alto nivel, dinámicamente tipado. Frecuentemente se dice que el código en Python es casi como un *pseudocódigo*, ya que permite expresar ideas muy poderosas en muy pocas líneas de código, siendo al mismo tiempo muy legible. Como ejemplo, acá hay una implementación del clásico algortimo de quicksort en Python:\n",
        "\n",
        "**NOTA**: En IPython, el código en una celda se ejecuta cliqueando dentro de la celda, y presionando **Shift+Enter** al mismo tiempo."
      ]
    },
    {
      "metadata": {
        "id": "wpYJZksQ5q1W",
        "colab_type": "code",
        "colab": {
          "autoexec": {
            "startup": false,
            "wait_interval": 0
          },
          "output_extras": [
            {
              "item_id": 1
            }
          ],
          "base_uri": "https://localhost:8080/",
          "height": 34
        },
        "outputId": "10eabc98-e438-47b1-f6ce-e6ea80252f8e",
        "executionInfo": {
          "status": "ok",
          "timestamp": 1522285995292,
          "user_tz": 180,
          "elapsed": 878,
          "user": {
            "displayName": "Rosana Matuk",
            "photoUrl": "//lh5.googleusercontent.com/-pwKtU543ujw/AAAAAAAAAAI/AAAAAAAAWA8/3iDVQO6IL0w/s50-c-k-no/photo.jpg",
            "userId": "104154383372735234904"
          }
        }
      },
      "cell_type": "code",
      "source": [
        "def quicksort(arr):\n",
        "    if len(arr) <= 1:\n",
        "        return arr\n",
        "    pivot = arr[len(arr) // 2]\n",
        "    left = [x for x in arr if x < pivot]\n",
        "    middle = [x for x in arr if x == pivot]\n",
        "    right = [x for x in arr if x > pivot]\n",
        "    return quicksort(left) + middle + quicksort(right)\n",
        "\n",
        "print(quicksort([3,6,8,10,1,2,1]))"
      ],
      "execution_count": 1,
      "outputs": [
        {
          "output_type": "stream",
          "text": [
            "[1, 1, 2, 3, 6, 8, 10]\n"
          ],
          "name": "stdout"
        }
      ]
    },
    {
      "metadata": {
        "id": "LfhFbB8Z5q1i",
        "colab_type": "text"
      },
      "cell_type": "markdown",
      "source": [
        "###Versiones de Python"
      ]
    },
    {
      "metadata": {
        "id": "cJCjzx7Y5q1k",
        "colab_type": "text"
      },
      "cell_type": "markdown",
      "source": [
        "Actualmente hay dos versiones soportadas estables de Python, 2.7 y 3.6. Python 3.0 introdujo algunos cambios incompatibles con Python 2, y entonces algunos códigos escritos para 2.7 podrían no funcionar para 3.6, y viceversa. Para esta clase, usaremos Python 3.6.\n",
        "\n",
        "Para ver la versión de Python que está instalada en su computadora ejecutar en línea de comando `python --version`."
      ]
    },
    {
      "metadata": {
        "id": "-m-76MvqLOHl",
        "colab_type": "text"
      },
      "cell_type": "markdown",
      "source": [
        "### Ejecutando línea de comando desde Jupyter Notebook"
      ]
    },
    {
      "metadata": {
        "id": "v-1TaPpsL2Jl",
        "colab_type": "text"
      },
      "cell_type": "markdown",
      "source": [
        "En la interfaz web de Jupyter Notebook, para ejecutar y ver la salida de una instrucción a línea de comando de la computadora, anteponer el símbolo: !"
      ]
    },
    {
      "metadata": {
        "id": "rvNkG_0LMVUD",
        "colab_type": "code",
        "colab": {
          "autoexec": {
            "startup": false,
            "wait_interval": 0
          },
          "output_extras": [
            {
              "item_id": 2
            }
          ],
          "base_uri": "https://localhost:8080/",
          "height": 51
        },
        "outputId": "007d41ba-34f7-42b6-a051-6022b8cf8bc3",
        "executionInfo": {
          "status": "ok",
          "timestamp": 1522285998478,
          "user_tz": 180,
          "elapsed": 1763,
          "user": {
            "displayName": "Rosana Matuk",
            "photoUrl": "//lh5.googleusercontent.com/-pwKtU543ujw/AAAAAAAAAAI/AAAAAAAAWA8/3iDVQO6IL0w/s50-c-k-no/photo.jpg",
            "userId": "104154383372735234904"
          }
        }
      },
      "cell_type": "code",
      "source": [
        "# Muestra el directorio actual\n",
        "!pwd\n",
        "\n",
        "# TAREA: mostrar desde Jupyter la versión de Python que tiene instalado el sistema\n",
        "print(\"########### REEMPLAZAR POR TU CODIGO ############\")\n"
      ],
      "execution_count": 2,
      "outputs": [
        {
          "output_type": "stream",
          "text": [
            "/content\r\n",
            "########### REEMPLAZAR POR TU CODIGO ############\n"
          ],
          "name": "stdout"
        }
      ]
    },
    {
      "metadata": {
        "id": "sotHVM0t5q1l",
        "colab_type": "text"
      },
      "cell_type": "markdown",
      "source": [
        "\n",
        "\n",
        "###Tipos de datos básicos"
      ]
    },
    {
      "metadata": {
        "id": "THkpPxwN5q1n",
        "colab_type": "text"
      },
      "cell_type": "markdown",
      "source": [
        "####Números"
      ]
    },
    {
      "metadata": {
        "id": "f3xyLvxW5q1o",
        "colab_type": "text"
      },
      "cell_type": "markdown",
      "source": [
        "Los enteros y los floats se comportan en la forma habitual de los lenguajes de programación:"
      ]
    },
    {
      "metadata": {
        "id": "bVYQAovh5q1q",
        "colab_type": "code",
        "colab": {
          "autoexec": {
            "startup": false,
            "wait_interval": 0
          },
          "output_extras": [
            {
              "item_id": 1
            }
          ],
          "base_uri": "https://localhost:8080/",
          "height": 34
        },
        "outputId": "a10bc844-cba5-4cd5-f4f1-ee1593741505",
        "executionInfo": {
          "status": "ok",
          "timestamp": 1522285999261,
          "user_tz": 180,
          "elapsed": 750,
          "user": {
            "displayName": "Rosana Matuk",
            "photoUrl": "//lh5.googleusercontent.com/-pwKtU543ujw/AAAAAAAAAAI/AAAAAAAAWA8/3iDVQO6IL0w/s50-c-k-no/photo.jpg",
            "userId": "104154383372735234904"
          }
        }
      },
      "cell_type": "code",
      "source": [
        "x = 3\n",
        "print (x, type(x))"
      ],
      "execution_count": 3,
      "outputs": [
        {
          "output_type": "stream",
          "text": [
            "3 <class 'int'>\n"
          ],
          "name": "stdout"
        }
      ]
    },
    {
      "metadata": {
        "id": "dztfWsYU5q1y",
        "colab_type": "code",
        "colab": {
          "autoexec": {
            "startup": false,
            "wait_interval": 0
          },
          "output_extras": [
            {
              "item_id": 1
            }
          ],
          "base_uri": "https://localhost:8080/",
          "height": 85
        },
        "outputId": "d6c4a848-dc2c-4d21-cf85-f289cfcda00b",
        "executionInfo": {
          "status": "ok",
          "timestamp": 1522286000014,
          "user_tz": 180,
          "elapsed": 649,
          "user": {
            "displayName": "Rosana Matuk",
            "photoUrl": "//lh5.googleusercontent.com/-pwKtU543ujw/AAAAAAAAAAI/AAAAAAAAWA8/3iDVQO6IL0w/s50-c-k-no/photo.jpg",
            "userId": "104154383372735234904"
          }
        }
      },
      "cell_type": "code",
      "source": [
        "print (x + 1)   # Suma;\n",
        "print (x - 1)   # Resta;\n",
        "print (x * 2)   # Multiplicación;\n",
        "print (x ** 2)  # Exponencial;"
      ],
      "execution_count": 4,
      "outputs": [
        {
          "output_type": "stream",
          "text": [
            "4\n",
            "2\n",
            "6\n",
            "9\n"
          ],
          "name": "stdout"
        }
      ]
    },
    {
      "metadata": {
        "id": "gOmd8lBF5q16",
        "colab_type": "code",
        "colab": {
          "autoexec": {
            "startup": false,
            "wait_interval": 0
          },
          "output_extras": [
            {
              "item_id": 1
            }
          ],
          "base_uri": "https://localhost:8080/",
          "height": 51
        },
        "outputId": "a967ad0f-7556-43a7-a748-3beae8724a32",
        "executionInfo": {
          "status": "ok",
          "timestamp": 1522286000745,
          "user_tz": 180,
          "elapsed": 623,
          "user": {
            "displayName": "Rosana Matuk",
            "photoUrl": "//lh5.googleusercontent.com/-pwKtU543ujw/AAAAAAAAAAI/AAAAAAAAWA8/3iDVQO6IL0w/s50-c-k-no/photo.jpg",
            "userId": "104154383372735234904"
          }
        }
      },
      "cell_type": "code",
      "source": [
        "x += 1     # Incrementa la variable x en 1 y se la asigna a sí misma\n",
        "print (x)  # Imprime \"4\"\n",
        "x *= 2     # Duplica el valor de la variable x, y se la asigna a sí misma\n",
        "print (x)  # Imprime \"8\""
      ],
      "execution_count": 5,
      "outputs": [
        {
          "output_type": "stream",
          "text": [
            "4\n",
            "8\n"
          ],
          "name": "stdout"
        }
      ]
    },
    {
      "metadata": {
        "id": "g4NuhVfj5q2E",
        "colab_type": "code",
        "colab": {
          "autoexec": {
            "startup": false,
            "wait_interval": 0
          },
          "output_extras": [
            {
              "item_id": 1
            }
          ],
          "base_uri": "https://localhost:8080/",
          "height": 51
        },
        "outputId": "95359ea1-fa67-4c35-f130-18f5b23589cf",
        "executionInfo": {
          "status": "ok",
          "timestamp": 1522286001494,
          "user_tz": 180,
          "elapsed": 652,
          "user": {
            "displayName": "Rosana Matuk",
            "photoUrl": "//lh5.googleusercontent.com/-pwKtU543ujw/AAAAAAAAAAI/AAAAAAAAWA8/3iDVQO6IL0w/s50-c-k-no/photo.jpg",
            "userId": "104154383372735234904"
          }
        }
      },
      "cell_type": "code",
      "source": [
        "y = 2.5\n",
        "print (type(y)) # Imprime el tipo de la variable, en este caso \"<type 'float'>\"\n",
        "print (y, y + 1, y * 2, y ** 2) # Imprime \"2.5 3.5 5.0 6.25\""
      ],
      "execution_count": 6,
      "outputs": [
        {
          "output_type": "stream",
          "text": [
            "<class 'float'>\n",
            "2.5 3.5 5.0 6.25\n"
          ],
          "name": "stdout"
        }
      ]
    },
    {
      "metadata": {
        "id": "6Pd6NV6YZcAR",
        "colab_type": "code",
        "colab": {
          "autoexec": {
            "startup": false,
            "wait_interval": 0
          },
          "output_extras": [
            {
              "item_id": 1
            }
          ],
          "base_uri": "https://localhost:8080/",
          "height": 34
        },
        "outputId": "bd342b27-a3f3-435f-80a6-cd022f470c8f",
        "executionInfo": {
          "status": "ok",
          "timestamp": 1522286002240,
          "user_tz": 180,
          "elapsed": 619,
          "user": {
            "displayName": "Rosana Matuk",
            "photoUrl": "//lh5.googleusercontent.com/-pwKtU543ujw/AAAAAAAAAAI/AAAAAAAAWA8/3iDVQO6IL0w/s50-c-k-no/photo.jpg",
            "userId": "104154383372735234904"
          }
        }
      },
      "cell_type": "code",
      "source": [
        "#TAREA: Crear la variable z, y asignarle el triple del valor de la suma de x más y.\n",
        "print(\"***********REEMPLAZAR POR TU CODIGO*************\")"
      ],
      "execution_count": 7,
      "outputs": [
        {
          "output_type": "stream",
          "text": [
            "***********REEMPLAZAR POR TU CODIGO*************\n"
          ],
          "name": "stdout"
        }
      ]
    },
    {
      "metadata": {
        "id": "we75WUci5q2O",
        "colab_type": "text"
      },
      "cell_type": "markdown",
      "source": [
        "Notar que a diferencia de otros lenguajes, Python no tiene los operadores unarios de incremento (x++) o decremento (x--).\n",
        "\n",
        "Python tiene también tipos para enteros long y números complejos; puede encontrar los detalles en [documentacion](https://docs.python.org/2/library/stdtypes.html#numeric-types-int-float-long-complex)."
      ]
    },
    {
      "metadata": {
        "id": "uUl_bk835q2P",
        "colab_type": "text"
      },
      "cell_type": "markdown",
      "source": [
        "####Booleanos"
      ]
    },
    {
      "metadata": {
        "id": "rgeh2qDx5q2Q",
        "colab_type": "text"
      },
      "cell_type": "markdown",
      "source": [
        "Python implementa todos los operadores usuales de la lógica booleana, pero usa palabras en inglés en lugar de los símbolos (`&&`, `||`, etc.):"
      ]
    },
    {
      "metadata": {
        "id": "yo6wobrY5q2R",
        "colab_type": "code",
        "colab": {
          "autoexec": {
            "startup": false,
            "wait_interval": 0
          },
          "output_extras": [
            {
              "item_id": 1
            }
          ],
          "base_uri": "https://localhost:8080/",
          "height": 34
        },
        "outputId": "8e3874fb-b4b2-45cd-dcbd-87303ce00836",
        "executionInfo": {
          "status": "ok",
          "timestamp": 1522286002980,
          "user_tz": 180,
          "elapsed": 621,
          "user": {
            "displayName": "Rosana Matuk",
            "photoUrl": "//lh5.googleusercontent.com/-pwKtU543ujw/AAAAAAAAAAI/AAAAAAAAWA8/3iDVQO6IL0w/s50-c-k-no/photo.jpg",
            "userId": "104154383372735234904"
          }
        }
      },
      "cell_type": "code",
      "source": [
        "t, f = True, False\n",
        "print (type(t)) # Imprime \"<type 'bool'>\""
      ],
      "execution_count": 8,
      "outputs": [
        {
          "output_type": "stream",
          "text": [
            "<class 'bool'>\n"
          ],
          "name": "stdout"
        }
      ]
    },
    {
      "metadata": {
        "id": "zsBdYsbJ5q2Z",
        "colab_type": "text"
      },
      "cell_type": "markdown",
      "source": [
        "Ahora veamos algunas operaciones:"
      ]
    },
    {
      "metadata": {
        "id": "BNVhsasL5q2c",
        "colab_type": "code",
        "colab": {
          "autoexec": {
            "startup": false,
            "wait_interval": 0
          },
          "output_extras": [
            {
              "item_id": 1
            }
          ],
          "base_uri": "https://localhost:8080/",
          "height": 85
        },
        "outputId": "090382f5-eaf9-4f94-b2c5-776731027441",
        "executionInfo": {
          "status": "ok",
          "timestamp": 1522286003828,
          "user_tz": 180,
          "elapsed": 764,
          "user": {
            "displayName": "Rosana Matuk",
            "photoUrl": "//lh5.googleusercontent.com/-pwKtU543ujw/AAAAAAAAAAI/AAAAAAAAWA8/3iDVQO6IL0w/s50-c-k-no/photo.jpg",
            "userId": "104154383372735234904"
          }
        }
      },
      "cell_type": "code",
      "source": [
        "print (t and f) # Logical AND;\n",
        "print (t or f)  # Logical OR;\n",
        "print (not t)   # Logical NOT;\n",
        "print (t != f)  # Logical XOR;"
      ],
      "execution_count": 9,
      "outputs": [
        {
          "output_type": "stream",
          "text": [
            "False\n",
            "True\n",
            "False\n",
            "True\n"
          ],
          "name": "stdout"
        }
      ]
    },
    {
      "metadata": {
        "id": "jWt1jbF75q2j",
        "colab_type": "text"
      },
      "cell_type": "markdown",
      "source": [
        "####Strings"
      ]
    },
    {
      "metadata": {
        "id": "uyldbWX75q2k",
        "colab_type": "code",
        "colab": {
          "autoexec": {
            "startup": false,
            "wait_interval": 0
          },
          "output_extras": [
            {
              "item_id": 1
            }
          ],
          "base_uri": "https://localhost:8080/",
          "height": 34
        },
        "outputId": "b3761823-a19c-406c-a792-622e8e6dfdfa",
        "executionInfo": {
          "status": "ok",
          "timestamp": 1522286004595,
          "user_tz": 180,
          "elapsed": 679,
          "user": {
            "displayName": "Rosana Matuk",
            "photoUrl": "//lh5.googleusercontent.com/-pwKtU543ujw/AAAAAAAAAAI/AAAAAAAAWA8/3iDVQO6IL0w/s50-c-k-no/photo.jpg",
            "userId": "104154383372735234904"
          }
        }
      },
      "cell_type": "code",
      "source": [
        "hello = 'hello'   # Los strings pueden usar comillas simples\n",
        "world = \"world\"   # o dobles\n",
        "print (hello, len(hello))"
      ],
      "execution_count": 10,
      "outputs": [
        {
          "output_type": "stream",
          "text": [
            "hello 5\n"
          ],
          "name": "stdout"
        }
      ]
    },
    {
      "metadata": {
        "id": "69vTXT6m5q2p",
        "colab_type": "code",
        "colab": {
          "autoexec": {
            "startup": false,
            "wait_interval": 0
          },
          "output_extras": [
            {
              "item_id": 1
            }
          ],
          "base_uri": "https://localhost:8080/",
          "height": 34
        },
        "outputId": "f363eac5-d29e-45a2-bead-d6eb73d3a459",
        "executionInfo": {
          "status": "ok",
          "timestamp": 1522286005392,
          "user_tz": 180,
          "elapsed": 698,
          "user": {
            "displayName": "Rosana Matuk",
            "photoUrl": "//lh5.googleusercontent.com/-pwKtU543ujw/AAAAAAAAAAI/AAAAAAAAWA8/3iDVQO6IL0w/s50-c-k-no/photo.jpg",
            "userId": "104154383372735234904"
          }
        }
      },
      "cell_type": "code",
      "source": [
        "hw = hello + ' ' + world  # Concatenación de strings\n",
        "print (hw)  # imprime \"hello world\""
      ],
      "execution_count": 11,
      "outputs": [
        {
          "output_type": "stream",
          "text": [
            "hello world\n"
          ],
          "name": "stdout"
        }
      ]
    },
    {
      "metadata": {
        "id": "KPvy1sbJ5q2u",
        "colab_type": "code",
        "colab": {
          "autoexec": {
            "startup": false,
            "wait_interval": 0
          },
          "output_extras": [
            {
              "item_id": 1
            }
          ],
          "base_uri": "https://localhost:8080/",
          "height": 34
        },
        "outputId": "625bf5aa-d725-48b9-ef5a-7a03e4aaf10e",
        "executionInfo": {
          "status": "ok",
          "timestamp": 1522286006132,
          "user_tz": 180,
          "elapsed": 651,
          "user": {
            "displayName": "Rosana Matuk",
            "photoUrl": "//lh5.googleusercontent.com/-pwKtU543ujw/AAAAAAAAAAI/AAAAAAAAWA8/3iDVQO6IL0w/s50-c-k-no/photo.jpg",
            "userId": "104154383372735234904"
          }
        }
      },
      "cell_type": "code",
      "source": [
        "hw12 = ('%s %s %d' % (hello, world, 12))  # Formateando la salida\n",
        "print (hw12)  # imprime \"hello world 12\""
      ],
      "execution_count": 12,
      "outputs": [
        {
          "output_type": "stream",
          "text": [
            "hello world 12\n"
          ],
          "name": "stdout"
        }
      ]
    },
    {
      "metadata": {
        "id": "Q-xLTBCM5q2y",
        "colab_type": "text"
      },
      "cell_type": "markdown",
      "source": [
        "Los strings tienen algunas funciones útiles; por ejemplo:"
      ]
    },
    {
      "metadata": {
        "id": "5tMbkHM65q20",
        "colab_type": "code",
        "colab": {
          "autoexec": {
            "startup": false,
            "wait_interval": 0
          },
          "output_extras": [
            {
              "item_id": 1
            }
          ],
          "base_uri": "https://localhost:8080/",
          "height": 119
        },
        "outputId": "acb87c02-0202-4fbe-dd94-cf6fde897ed7",
        "executionInfo": {
          "status": "ok",
          "timestamp": 1522286006857,
          "user_tz": 180,
          "elapsed": 644,
          "user": {
            "displayName": "Rosana Matuk",
            "photoUrl": "//lh5.googleusercontent.com/-pwKtU543ujw/AAAAAAAAAAI/AAAAAAAAWA8/3iDVQO6IL0w/s50-c-k-no/photo.jpg",
            "userId": "104154383372735234904"
          }
        }
      },
      "cell_type": "code",
      "source": [
        "s = \"hello\"\n",
        "print (s.capitalize())  # Pone la primera letra mayúscula; imprime \"Hello\"\n",
        "print (s.upper())       # Convierte un string a todas mayúsculas; imprime \"HELLO\"\n",
        "print (s.rjust(7))      # Alinea a la derecha un string; imprime \"  hello\"\n",
        "print (s.center(7))     # Alinea al centro un string; imprime \" hello \"\n",
        "print (s.replace('l', '(ell)'))  # Reemplaza todas las instancias de un substring con otro;\n",
        "                               # imprime \"he(ell)(ell)o\"\n",
        "print ('  world '.strip())  # Quita los espacios en blanco al inicio y al final del string; imprime \"world\""
      ],
      "execution_count": 13,
      "outputs": [
        {
          "output_type": "stream",
          "text": [
            "Hello\n",
            "HELLO\n",
            "  hello\n",
            " hello \n",
            "he(ell)(ell)o\n",
            "world\n"
          ],
          "name": "stdout"
        }
      ]
    },
    {
      "metadata": {
        "id": "7iVAp_Hm5q24",
        "colab_type": "text"
      },
      "cell_type": "markdown",
      "source": [
        "Puede encontrar una lista de todos los métodos para los strings en la [documentación](https://docs.python.org/2/library/stdtypes.html#string-methods)."
      ]
    },
    {
      "metadata": {
        "id": "jHCAFmb95q25",
        "colab_type": "text"
      },
      "cell_type": "markdown",
      "source": [
        "###Containers"
      ]
    },
    {
      "metadata": {
        "id": "-PerHSky5q25",
        "colab_type": "text"
      },
      "cell_type": "markdown",
      "source": [
        "Python incluye varios tipos container: listas, diccionarios, conjuntos y tuplas."
      ]
    },
    {
      "metadata": {
        "id": "f9BNPsMT5q27",
        "colab_type": "text"
      },
      "cell_type": "markdown",
      "source": [
        "####Listas"
      ]
    },
    {
      "metadata": {
        "id": "ipDjlY6S5q28",
        "colab_type": "text"
      },
      "cell_type": "markdown",
      "source": [
        "Una lista es el equivalente Python de un array, pero puede cambiar de tamaño y puede contener elementos de diferentes tipos:"
      ]
    },
    {
      "metadata": {
        "id": "4_TQGb2i5q29",
        "colab_type": "code",
        "colab": {
          "autoexec": {
            "startup": false,
            "wait_interval": 0
          },
          "output_extras": [
            {
              "item_id": 1
            }
          ],
          "base_uri": "https://localhost:8080/",
          "height": 51
        },
        "outputId": "759457fd-eff9-4f59-94b9-73ebc00f070b",
        "executionInfo": {
          "status": "ok",
          "timestamp": 1522286007875,
          "user_tz": 180,
          "elapsed": 933,
          "user": {
            "displayName": "Rosana Matuk",
            "photoUrl": "//lh5.googleusercontent.com/-pwKtU543ujw/AAAAAAAAAAI/AAAAAAAAWA8/3iDVQO6IL0w/s50-c-k-no/photo.jpg",
            "userId": "104154383372735234904"
          }
        }
      },
      "cell_type": "code",
      "source": [
        "xs = [3, 1, 2]   # Crea una lista\n",
        "print (xs, xs[2])\n",
        "print (xs[-1])     # Los índices negativos cuentan desde el fin de la lista; imprime \"2\""
      ],
      "execution_count": 14,
      "outputs": [
        {
          "output_type": "stream",
          "text": [
            "[3, 1, 2] 2\n",
            "2\n"
          ],
          "name": "stdout"
        }
      ]
    },
    {
      "metadata": {
        "id": "aqoDqKcQ5q3A",
        "colab_type": "code",
        "colab": {
          "autoexec": {
            "startup": false,
            "wait_interval": 0
          },
          "output_extras": [
            {
              "item_id": 1
            }
          ],
          "base_uri": "https://localhost:8080/",
          "height": 34
        },
        "outputId": "ddd64f02-a933-4bec-b851-4b04ae2fbddd",
        "executionInfo": {
          "status": "ok",
          "timestamp": 1522286008612,
          "user_tz": 180,
          "elapsed": 652,
          "user": {
            "displayName": "Rosana Matuk",
            "photoUrl": "//lh5.googleusercontent.com/-pwKtU543ujw/AAAAAAAAAAI/AAAAAAAAWA8/3iDVQO6IL0w/s50-c-k-no/photo.jpg",
            "userId": "104154383372735234904"
          }
        }
      },
      "cell_type": "code",
      "source": [
        "xs[2] = 'foo'    # Listas pueden contener elementos de diferentes tipos\n",
        "print (xs)"
      ],
      "execution_count": 15,
      "outputs": [
        {
          "output_type": "stream",
          "text": [
            "[3, 1, 'foo']\n"
          ],
          "name": "stdout"
        }
      ]
    },
    {
      "metadata": {
        "id": "WrloXM9J5q3G",
        "colab_type": "code",
        "colab": {
          "autoexec": {
            "startup": false,
            "wait_interval": 0
          },
          "output_extras": [
            {
              "item_id": 1
            }
          ],
          "base_uri": "https://localhost:8080/",
          "height": 34
        },
        "outputId": "7aa64b02-2635-4f8e-f029-e980db2cd1cf",
        "executionInfo": {
          "status": "ok",
          "timestamp": 1522286009340,
          "user_tz": 180,
          "elapsed": 631,
          "user": {
            "displayName": "Rosana Matuk",
            "photoUrl": "//lh5.googleusercontent.com/-pwKtU543ujw/AAAAAAAAAAI/AAAAAAAAWA8/3iDVQO6IL0w/s50-c-k-no/photo.jpg",
            "userId": "104154383372735234904"
          }
        }
      },
      "cell_type": "code",
      "source": [
        "xs.append('bar') # Agrega un elemento nuevo al final de la lista\n",
        "print (xs)  "
      ],
      "execution_count": 16,
      "outputs": [
        {
          "output_type": "stream",
          "text": [
            "[3, 1, 'foo', 'bar']\n"
          ],
          "name": "stdout"
        }
      ]
    },
    {
      "metadata": {
        "id": "EkQ9BNzz5q3J",
        "colab_type": "code",
        "colab": {
          "autoexec": {
            "startup": false,
            "wait_interval": 0
          },
          "output_extras": [
            {
              "item_id": 1
            }
          ],
          "base_uri": "https://localhost:8080/",
          "height": 34
        },
        "outputId": "f9818f41-7e9f-446f-87bb-17017fcc7e80",
        "executionInfo": {
          "status": "ok",
          "timestamp": 1522286010068,
          "user_tz": 180,
          "elapsed": 634,
          "user": {
            "displayName": "Rosana Matuk",
            "photoUrl": "//lh5.googleusercontent.com/-pwKtU543ujw/AAAAAAAAAAI/AAAAAAAAWA8/3iDVQO6IL0w/s50-c-k-no/photo.jpg",
            "userId": "104154383372735234904"
          }
        }
      },
      "cell_type": "code",
      "source": [
        "x = xs.pop()     # Remueve and devuelve el último elemento de la lista\n",
        "print (x, xs) "
      ],
      "execution_count": 17,
      "outputs": [
        {
          "output_type": "stream",
          "text": [
            "bar [3, 1, 'foo']\n"
          ],
          "name": "stdout"
        }
      ]
    },
    {
      "metadata": {
        "id": "wTDsbYOh5q3N",
        "colab_type": "text"
      },
      "cell_type": "markdown",
      "source": [
        "Pueden consultar más detalles acerca de las listas en la [documentación](https://docs.python.org/2/tutorial/datastructures.html#more-on-lists)."
      ]
    },
    {
      "metadata": {
        "id": "OwN1QfB25q3P",
        "colab_type": "text"
      },
      "cell_type": "markdown",
      "source": [
        "####Slicing"
      ]
    },
    {
      "metadata": {
        "id": "jcMqNrgu5q3Q",
        "colab_type": "text"
      },
      "cell_type": "markdown",
      "source": [
        "Además de acceder un elemento de la lista por vez, en Python se pueden acceder a sublistas de la lista; esto se conoce como slicing:"
      ]
    },
    {
      "metadata": {
        "id": "wwZ6SA-L5q3Q",
        "colab_type": "code",
        "colab": {
          "autoexec": {
            "startup": false,
            "wait_interval": 0
          },
          "output_extras": [
            {
              "item_id": 1
            }
          ],
          "base_uri": "https://localhost:8080/",
          "height": 170
        },
        "outputId": "64f8122b-3bde-4f22-b176-d10131f59127",
        "executionInfo": {
          "status": "ok",
          "timestamp": 1522286010825,
          "user_tz": 180,
          "elapsed": 669,
          "user": {
            "displayName": "Rosana Matuk",
            "photoUrl": "//lh5.googleusercontent.com/-pwKtU543ujw/AAAAAAAAAAI/AAAAAAAAWA8/3iDVQO6IL0w/s50-c-k-no/photo.jpg",
            "userId": "104154383372735234904"
          }
        }
      },
      "cell_type": "code",
      "source": [
        "nums = range(5)    # range is una función que crea un rango de enteros de cero a n-1. \n",
        "print (type(nums))\n",
        "nums = list(nums) # Llamamos a list para convertir el tipo range a tipo lista, lo que se conoce como \"casting\".\n",
        "print (type(nums))\n",
        "print (nums)         # Imprime \"[0, 1, 2, 3, 4]\"\n",
        "print (nums[2:4])    # Devuelve una sublista desde el índice 2 al 4 (exclusivo); imprime \"[2, 3]\"\n",
        "print (nums[2:])     # Devuelve una sublista desde el índice 2 hasta el final; imprime \"[2, 3, 4]\"\n",
        "print (nums[:2])     # Devuelve una sublista desde el comienzo al índice 2 (exclusivo); imprime \"[0, 1]\"\n",
        "print (nums[:])      # Devuelve una sublista de toda la lista: imprime \"[0, 1, 2, 3, 4]\"\n",
        "print (nums[:-1])    # Los índices de una sublista pueden ser negativos; imprime \"[0, 1, 2, 3]\"\n",
        "nums[2:4] = [8, 9] # Asigna nuevos valores al slice\n",
        "print (nums)         # Imprime \"[0, 1, 8, 8, 4]\""
      ],
      "execution_count": 18,
      "outputs": [
        {
          "output_type": "stream",
          "text": [
            "<class 'range'>\n",
            "<class 'list'>\n",
            "[0, 1, 2, 3, 4]\n",
            "[2, 3]\n",
            "[2, 3, 4]\n",
            "[0, 1]\n",
            "[0, 1, 2, 3, 4]\n",
            "[0, 1, 2, 3]\n",
            "[0, 1, 8, 9, 4]\n"
          ],
          "name": "stdout"
        }
      ]
    },
    {
      "metadata": {
        "id": "5xiRdmop5q3V",
        "colab_type": "text"
      },
      "cell_type": "markdown",
      "source": [
        "####Loops"
      ]
    },
    {
      "metadata": {
        "id": "W4aIykm35q3W",
        "colab_type": "text"
      },
      "cell_type": "markdown",
      "source": [
        "Se puede hacer un ciclo (loop) sobre los elementos de una lista de esta forma:"
      ]
    },
    {
      "metadata": {
        "id": "DzPkWoQU5q3X",
        "colab_type": "code",
        "colab": {
          "autoexec": {
            "startup": false,
            "wait_interval": 0
          },
          "output_extras": [
            {
              "item_id": 1
            }
          ],
          "base_uri": "https://localhost:8080/",
          "height": 68
        },
        "outputId": "a5af1de7-07fe-4c6b-fe0f-910344f80459",
        "executionInfo": {
          "status": "ok",
          "timestamp": 1522286011637,
          "user_tz": 180,
          "elapsed": 718,
          "user": {
            "displayName": "Rosana Matuk",
            "photoUrl": "//lh5.googleusercontent.com/-pwKtU543ujw/AAAAAAAAAAI/AAAAAAAAWA8/3iDVQO6IL0w/s50-c-k-no/photo.jpg",
            "userId": "104154383372735234904"
          }
        }
      },
      "cell_type": "code",
      "source": [
        "animals = ['cat', 'dog', 'monkey']\n",
        "for animal in animals:\n",
        "    print (animal)"
      ],
      "execution_count": 19,
      "outputs": [
        {
          "output_type": "stream",
          "text": [
            "cat\n",
            "dog\n",
            "monkey\n"
          ],
          "name": "stdout"
        }
      ]
    },
    {
      "metadata": {
        "id": "SfjRY7oh5q3c",
        "colab_type": "text"
      },
      "cell_type": "markdown",
      "source": [
        "Para acceder al índice de cada elemento dentro del cuerpo del loop, se usa la función `enumerate`:"
      ]
    },
    {
      "metadata": {
        "id": "KHfWh7cm5q3d",
        "colab_type": "code",
        "colab": {
          "autoexec": {
            "startup": false,
            "wait_interval": 0
          },
          "output_extras": [
            {
              "item_id": 1
            }
          ],
          "base_uri": "https://localhost:8080/",
          "height": 68
        },
        "outputId": "00ce3c3d-1096-4607-deeb-7c796f0104b8",
        "executionInfo": {
          "status": "ok",
          "timestamp": 1522286012368,
          "user_tz": 180,
          "elapsed": 644,
          "user": {
            "displayName": "Rosana Matuk",
            "photoUrl": "//lh5.googleusercontent.com/-pwKtU543ujw/AAAAAAAAAAI/AAAAAAAAWA8/3iDVQO6IL0w/s50-c-k-no/photo.jpg",
            "userId": "104154383372735234904"
          }
        }
      },
      "cell_type": "code",
      "source": [
        "animals = ['cat', 'dog', 'monkey']\n",
        "for idx, animal in enumerate(animals):\n",
        "    print ('#%d: %s' % (idx + 1, animal))"
      ],
      "execution_count": 20,
      "outputs": [
        {
          "output_type": "stream",
          "text": [
            "#1: cat\n",
            "#2: dog\n",
            "#3: monkey\n"
          ],
          "name": "stdout"
        }
      ]
    },
    {
      "metadata": {
        "id": "GbMrJih65q3f",
        "colab_type": "text"
      },
      "cell_type": "markdown",
      "source": [
        "####Listas por comprensión:"
      ]
    },
    {
      "metadata": {
        "id": "uEw19H_q5q3g",
        "colab_type": "text"
      },
      "cell_type": "markdown",
      "source": [
        "Considere el siguiente ejemplo, que computa números al cuadrado:"
      ]
    },
    {
      "metadata": {
        "id": "q3nPnpPE5q3h",
        "colab_type": "code",
        "colab": {
          "autoexec": {
            "startup": false,
            "wait_interval": 0
          },
          "output_extras": [
            {
              "item_id": 1
            }
          ],
          "base_uri": "https://localhost:8080/",
          "height": 34
        },
        "outputId": "6eebff2d-b032-4918-aee8-1ac18c64a375",
        "executionInfo": {
          "status": "ok",
          "timestamp": 1522286013303,
          "user_tz": 180,
          "elapsed": 840,
          "user": {
            "displayName": "Rosana Matuk",
            "photoUrl": "//lh5.googleusercontent.com/-pwKtU543ujw/AAAAAAAAAAI/AAAAAAAAWA8/3iDVQO6IL0w/s50-c-k-no/photo.jpg",
            "userId": "104154383372735234904"
          }
        }
      },
      "cell_type": "code",
      "source": [
        "nums = [0, 1, 2, 3, 4]\n",
        "squares = []\n",
        "for x in nums:\n",
        "    squares.append(x ** 2)\n",
        "print (squares)"
      ],
      "execution_count": 21,
      "outputs": [
        {
          "output_type": "stream",
          "text": [
            "[0, 1, 4, 9, 16]\n"
          ],
          "name": "stdout"
        }
      ]
    },
    {
      "metadata": {
        "id": "uSsysiX95q3k",
        "colab_type": "text"
      },
      "cell_type": "markdown",
      "source": [
        "Podemos hacer más simple este código usando definición de listas por comprensión:"
      ]
    },
    {
      "metadata": {
        "id": "k4ezY_Vn5q3l",
        "colab_type": "code",
        "colab": {
          "autoexec": {
            "startup": false,
            "wait_interval": 0
          },
          "output_extras": [
            {
              "item_id": 1
            }
          ],
          "base_uri": "https://localhost:8080/",
          "height": 34
        },
        "outputId": "e6f985c7-f048-4477-a228-a46f791d41ca",
        "executionInfo": {
          "status": "ok",
          "timestamp": 1522286014255,
          "user_tz": 180,
          "elapsed": 849,
          "user": {
            "displayName": "Rosana Matuk",
            "photoUrl": "//lh5.googleusercontent.com/-pwKtU543ujw/AAAAAAAAAAI/AAAAAAAAWA8/3iDVQO6IL0w/s50-c-k-no/photo.jpg",
            "userId": "104154383372735234904"
          }
        }
      },
      "cell_type": "code",
      "source": [
        "nums = [0, 1, 2, 3, 4]\n",
        "squares = [x ** 2 for x in nums]\n",
        "print (squares)"
      ],
      "execution_count": 22,
      "outputs": [
        {
          "output_type": "stream",
          "text": [
            "[0, 1, 4, 9, 16]\n"
          ],
          "name": "stdout"
        }
      ]
    },
    {
      "metadata": {
        "id": "2r-xDQrV5q3p",
        "colab_type": "text"
      },
      "cell_type": "markdown",
      "source": [
        "Las listas por comprensión también pueden tener condiciones:"
      ]
    },
    {
      "metadata": {
        "id": "FuceJKWp5q3q",
        "colab_type": "code",
        "colab": {
          "autoexec": {
            "startup": false,
            "wait_interval": 0
          },
          "output_extras": [
            {
              "item_id": 1
            }
          ],
          "base_uri": "https://localhost:8080/",
          "height": 34
        },
        "outputId": "fea869c5-c0dd-447e-ce2e-a90ca4373f67",
        "executionInfo": {
          "status": "ok",
          "timestamp": 1522286014982,
          "user_tz": 180,
          "elapsed": 633,
          "user": {
            "displayName": "Rosana Matuk",
            "photoUrl": "//lh5.googleusercontent.com/-pwKtU543ujw/AAAAAAAAAAI/AAAAAAAAWA8/3iDVQO6IL0w/s50-c-k-no/photo.jpg",
            "userId": "104154383372735234904"
          }
        }
      },
      "cell_type": "code",
      "source": [
        "nums = [0, 1, 2, 3, 4]\n",
        "even_squares = [x ** 2 for x in nums if x % 2 == 0]\n",
        "print (even_squares)"
      ],
      "execution_count": 23,
      "outputs": [
        {
          "output_type": "stream",
          "text": [
            "[0, 4, 16]\n"
          ],
          "name": "stdout"
        }
      ]
    },
    {
      "metadata": {
        "id": "Zn9lPGuA5q3t",
        "colab_type": "text"
      },
      "cell_type": "markdown",
      "source": [
        "####Diccionarios"
      ]
    },
    {
      "metadata": {
        "id": "qR4dwMJ15q3t",
        "colab_type": "text"
      },
      "cell_type": "markdown",
      "source": [
        "Un diccionario almacena pares (clave, valor) pairs, en forma similar a un `Map` en Java o a un objecto en Javascript. Por ejemplo:"
      ]
    },
    {
      "metadata": {
        "id": "XSqsRxER5q3u",
        "colab_type": "code",
        "colab": {
          "autoexec": {
            "startup": false,
            "wait_interval": 0
          },
          "output_extras": [
            {
              "item_id": 1
            }
          ],
          "base_uri": "https://localhost:8080/",
          "height": 51
        },
        "outputId": "0100140c-0779-415b-99e4-533fbb6e1cfd",
        "executionInfo": {
          "status": "ok",
          "timestamp": 1522286015756,
          "user_tz": 180,
          "elapsed": 683,
          "user": {
            "displayName": "Rosana Matuk",
            "photoUrl": "//lh5.googleusercontent.com/-pwKtU543ujw/AAAAAAAAAAI/AAAAAAAAWA8/3iDVQO6IL0w/s50-c-k-no/photo.jpg",
            "userId": "104154383372735234904"
          }
        }
      },
      "cell_type": "code",
      "source": [
        "d = {'cat': 'cute', 'dog': 'furry'}  # Crea un diccionario nuevo con algunos datos\n",
        "print (d['cat'])       # Toma una entrada de un diccionario; imprime \"cute\"\n",
        "print ('cat' in d)     # Chequea si el diccionario tiene la clave dada; imprime \"True\""
      ],
      "execution_count": 24,
      "outputs": [
        {
          "output_type": "stream",
          "text": [
            "cute\n",
            "True\n"
          ],
          "name": "stdout"
        }
      ]
    },
    {
      "metadata": {
        "id": "6-fyFvpe5q3w",
        "colab_type": "code",
        "colab": {
          "autoexec": {
            "startup": false,
            "wait_interval": 0
          },
          "output_extras": [
            {
              "item_id": 1
            }
          ],
          "base_uri": "https://localhost:8080/",
          "height": 34
        },
        "outputId": "e7cdcd45-4054-419b-b6b2-2bb0854b2eee",
        "executionInfo": {
          "status": "ok",
          "timestamp": 1522286016679,
          "user_tz": 180,
          "elapsed": 828,
          "user": {
            "displayName": "Rosana Matuk",
            "photoUrl": "//lh5.googleusercontent.com/-pwKtU543ujw/AAAAAAAAAAI/AAAAAAAAWA8/3iDVQO6IL0w/s50-c-k-no/photo.jpg",
            "userId": "104154383372735234904"
          }
        }
      },
      "cell_type": "code",
      "source": [
        "d['fish'] = 'wet'    # Setea una entrada en un diccionario\n",
        "print (d['fish'])      # Imprime \"wet\""
      ],
      "execution_count": 25,
      "outputs": [
        {
          "output_type": "stream",
          "text": [
            "wet\n"
          ],
          "name": "stdout"
        }
      ]
    },
    {
      "metadata": {
        "id": "cqFipdSW5q3z",
        "colab_type": "code",
        "colab": {
          "autoexec": {
            "startup": false,
            "wait_interval": 0
          },
          "output_extras": [
            {
              "item_id": 1
            }
          ],
          "base_uri": "https://localhost:8080/",
          "height": 164
        },
        "outputId": "173f6dce-196b-43b4-a4b4-3aa78846dbf2",
        "executionInfo": {
          "status": "error",
          "timestamp": 1522286017421,
          "user_tz": 180,
          "elapsed": 654,
          "user": {
            "displayName": "Rosana Matuk",
            "photoUrl": "//lh5.googleusercontent.com/-pwKtU543ujw/AAAAAAAAAAI/AAAAAAAAWA8/3iDVQO6IL0w/s50-c-k-no/photo.jpg",
            "userId": "104154383372735234904"
          }
        }
      },
      "cell_type": "code",
      "source": [
        "print (d['monkey'])  # KeyError: 'monkey' no es una clave de d"
      ],
      "execution_count": 26,
      "outputs": [
        {
          "output_type": "error",
          "ename": "KeyError",
          "evalue": "ignored",
          "traceback": [
            "\u001b[0;31m---------------------------------------------------------------------------\u001b[0m",
            "\u001b[0;31mKeyError\u001b[0m                                  Traceback (most recent call last)",
            "\u001b[0;32m<ipython-input-26-7e6ad5591431>\u001b[0m in \u001b[0;36m<module>\u001b[0;34m()\u001b[0m\n\u001b[0;32m----> 1\u001b[0;31m \u001b[0mprint\u001b[0m \u001b[0;34m(\u001b[0m\u001b[0md\u001b[0m\u001b[0;34m[\u001b[0m\u001b[0;34m'monkey'\u001b[0m\u001b[0;34m]\u001b[0m\u001b[0;34m)\u001b[0m  \u001b[0;31m# KeyError: 'monkey' no es una clave de d\u001b[0m\u001b[0;34m\u001b[0m\u001b[0m\n\u001b[0m",
            "\u001b[0;31mKeyError\u001b[0m: 'monkey'"
          ]
        }
      ]
    },
    {
      "metadata": {
        "id": "mqwjq1JB5q32",
        "colab_type": "code",
        "colab": {
          "autoexec": {
            "startup": false,
            "wait_interval": 0
          },
          "output_extras": [
            {}
          ],
          "base_uri": "https://localhost:8080/",
          "height": 51
        },
        "outputId": "b3c2fb40-718c-4174-8bd0-35187d41cccc",
        "executionInfo": {
          "status": "ok",
          "timestamp": 1521726301542,
          "user_tz": 180,
          "elapsed": 675,
          "user": {
            "displayName": "Rosana Matuk",
            "photoUrl": "//lh5.googleusercontent.com/-pwKtU543ujw/AAAAAAAAAAI/AAAAAAAAWA8/3iDVQO6IL0w/s50-c-k-no/photo.jpg",
            "userId": "104154383372735234904"
          }
        }
      },
      "cell_type": "code",
      "source": [
        "print (d.get('monkey', 'N/A'))  # Toma un elemento con un default; imprime \"N/A\"\n",
        "print (d.get('fish', 'N/A'))    # Toma un elemento con un default; imprime \"wet\""
      ],
      "execution_count": 0,
      "outputs": [
        {
          "output_type": "stream",
          "text": [
            "N/A\n",
            "wet\n"
          ],
          "name": "stdout"
        }
      ]
    },
    {
      "metadata": {
        "id": "JSBfW9cM5q35",
        "colab_type": "code",
        "colab": {
          "autoexec": {
            "startup": false,
            "wait_interval": 0
          },
          "output_extras": [
            {}
          ],
          "base_uri": "https://localhost:8080/",
          "height": 34
        },
        "outputId": "8ae98cd8-65b3-46ff-b0c4-074f63a8c0f8",
        "executionInfo": {
          "status": "ok",
          "timestamp": 1521726359800,
          "user_tz": 180,
          "elapsed": 750,
          "user": {
            "displayName": "Rosana Matuk",
            "photoUrl": "//lh5.googleusercontent.com/-pwKtU543ujw/AAAAAAAAAAI/AAAAAAAAWA8/3iDVQO6IL0w/s50-c-k-no/photo.jpg",
            "userId": "104154383372735234904"
          }
        }
      },
      "cell_type": "code",
      "source": [
        "del d['fish']        # Remueve un elemento de un diccionario\n",
        "print (d.get('fish', 'N/A')) # \"fish\" no es más una clave de d; imprime \"N/A\""
      ],
      "execution_count": 0,
      "outputs": [
        {
          "output_type": "stream",
          "text": [
            "N/A\n"
          ],
          "name": "stdout"
        }
      ]
    },
    {
      "metadata": {
        "id": "pJKwvNbN5q3-",
        "colab_type": "text"
      },
      "cell_type": "markdown",
      "source": [
        "Podés encontrar toda la información acerca de los diccionarios en la [documentación](https://docs.python.org/2/library/stdtypes.html#dict)."
      ]
    },
    {
      "metadata": {
        "id": "39GhDg_S5q3_",
        "colab_type": "text"
      },
      "cell_type": "markdown",
      "source": [
        "Es fácil iterar sobre las claves de un diccionario:"
      ]
    },
    {
      "metadata": {
        "id": "AGUsSd285q4A",
        "colab_type": "code",
        "colab": {
          "autoexec": {
            "startup": false,
            "wait_interval": 0
          },
          "output_extras": [
            {}
          ],
          "base_uri": "https://localhost:8080/",
          "height": 68
        },
        "outputId": "82ab880a-0df1-4d2c-984f-d017096aaf8d",
        "executionInfo": {
          "status": "ok",
          "timestamp": 1521726575660,
          "user_tz": 180,
          "elapsed": 748,
          "user": {
            "displayName": "Rosana Matuk",
            "photoUrl": "//lh5.googleusercontent.com/-pwKtU543ujw/AAAAAAAAAAI/AAAAAAAAWA8/3iDVQO6IL0w/s50-c-k-no/photo.jpg",
            "userId": "104154383372735234904"
          }
        }
      },
      "cell_type": "code",
      "source": [
        "d = {'person': 2, 'cat': 4, 'spider': 8}\n",
        "for animal in d:\n",
        "    legs = d[animal]\n",
        "    print ('A %s has %d legs' % (animal, legs))"
      ],
      "execution_count": 0,
      "outputs": [
        {
          "output_type": "stream",
          "text": [
            "A person has 2 legs\n",
            "A cat has 4 legs\n",
            "A spider has 8 legs\n"
          ],
          "name": "stdout"
        }
      ]
    },
    {
      "metadata": {
        "id": "USWlJ1Uh5q4D",
        "colab_type": "text"
      },
      "cell_type": "markdown",
      "source": [
        "Para acceder a las claves y sus valores correspondientes, usar el método items:"
      ]
    },
    {
      "metadata": {
        "id": "ksXilYJx5q4E",
        "colab_type": "code",
        "colab": {
          "autoexec": {
            "startup": false,
            "wait_interval": 0
          },
          "output_extras": [
            {}
          ],
          "base_uri": "https://localhost:8080/",
          "height": 68
        },
        "outputId": "f3c41d07-8a05-41e8-8c13-5e0ab91ee0be",
        "executionInfo": {
          "status": "ok",
          "timestamp": 1521726787625,
          "user_tz": 180,
          "elapsed": 931,
          "user": {
            "displayName": "Rosana Matuk",
            "photoUrl": "//lh5.googleusercontent.com/-pwKtU543ujw/AAAAAAAAAAI/AAAAAAAAWA8/3iDVQO6IL0w/s50-c-k-no/photo.jpg",
            "userId": "104154383372735234904"
          }
        }
      },
      "cell_type": "code",
      "source": [
        "d = {'person': 2, 'cat': 4, 'spider': 8}\n",
        "for animal, legs in d.items():\n",
        "    print ('A %s has %d legs' % (animal, legs))"
      ],
      "execution_count": 0,
      "outputs": [
        {
          "output_type": "stream",
          "text": [
            "A person has 2 legs\n",
            "A cat has 4 legs\n",
            "A spider has 8 legs\n"
          ],
          "name": "stdout"
        }
      ]
    },
    {
      "metadata": {
        "id": "41-CY-Pz5q4G",
        "colab_type": "text"
      },
      "cell_type": "markdown",
      "source": [
        "Diccionarios por comprensión: Similar a las listas por comprensión, pero para definir diccionarios. Por ejemplo:"
      ]
    },
    {
      "metadata": {
        "id": "BrEgZHHq5q4I",
        "colab_type": "code",
        "colab": {
          "autoexec": {
            "startup": false,
            "wait_interval": 0
          },
          "output_extras": [
            {}
          ],
          "base_uri": "https://localhost:8080/",
          "height": 34
        },
        "outputId": "36c6d6de-3b90-4e3c-d6d6-d58d310aee60",
        "executionInfo": {
          "status": "ok",
          "timestamp": 1521726852548,
          "user_tz": 180,
          "elapsed": 804,
          "user": {
            "displayName": "Rosana Matuk",
            "photoUrl": "//lh5.googleusercontent.com/-pwKtU543ujw/AAAAAAAAAAI/AAAAAAAAWA8/3iDVQO6IL0w/s50-c-k-no/photo.jpg",
            "userId": "104154383372735234904"
          }
        }
      },
      "cell_type": "code",
      "source": [
        "nums = [0, 1, 2, 3, 4]\n",
        "even_num_to_square = {x: x ** 2 for x in nums if x % 2 == 0}\n",
        "print (even_num_to_square)"
      ],
      "execution_count": 0,
      "outputs": [
        {
          "output_type": "stream",
          "text": [
            "{0: 0, 2: 4, 4: 16}\n"
          ],
          "name": "stdout"
        }
      ]
    },
    {
      "metadata": {
        "id": "tDD47vMB5q4L",
        "colab_type": "text"
      },
      "cell_type": "markdown",
      "source": [
        "####Conjuntos (Sets)"
      ]
    },
    {
      "metadata": {
        "id": "GA8eU1aU5q4M",
        "colab_type": "text"
      },
      "cell_type": "markdown",
      "source": [
        "Un conjunto es una colección de elementos distintos sin ningún orden. Por ejemplo:"
      ]
    },
    {
      "metadata": {
        "id": "bqrfOvL85q4O",
        "colab_type": "code",
        "colab": {
          "autoexec": {
            "startup": false,
            "wait_interval": 0
          },
          "output_extras": [
            {}
          ],
          "base_uri": "https://localhost:8080/",
          "height": 51
        },
        "outputId": "cc6bc244-d42a-46ff-f52c-dfcc1f8a0e84",
        "executionInfo": {
          "status": "ok",
          "timestamp": 1521727208328,
          "user_tz": 180,
          "elapsed": 677,
          "user": {
            "displayName": "Rosana Matuk",
            "photoUrl": "//lh5.googleusercontent.com/-pwKtU543ujw/AAAAAAAAAAI/AAAAAAAAWA8/3iDVQO6IL0w/s50-c-k-no/photo.jpg",
            "userId": "104154383372735234904"
          }
        }
      },
      "cell_type": "code",
      "source": [
        "animals = {'cat', 'dog'}\n",
        "print ('cat' in animals)   # Chequea si un elemento está en un conjunto; imprime \"True\"\n",
        "print ('fish' in animals)  # imprime \"False\"\n"
      ],
      "execution_count": 0,
      "outputs": [
        {
          "output_type": "stream",
          "text": [
            "True\n",
            "False\n"
          ],
          "name": "stdout"
        }
      ]
    },
    {
      "metadata": {
        "id": "iBoumJBc5q4S",
        "colab_type": "code",
        "colab": {
          "autoexec": {
            "startup": false,
            "wait_interval": 0
          },
          "output_extras": [
            {}
          ],
          "base_uri": "https://localhost:8080/",
          "height": 51
        },
        "outputId": "35b1dd13-beda-469a-ea46-9821dd722ba1",
        "executionInfo": {
          "status": "ok",
          "timestamp": 1521727217458,
          "user_tz": 180,
          "elapsed": 664,
          "user": {
            "displayName": "Rosana Matuk",
            "photoUrl": "//lh5.googleusercontent.com/-pwKtU543ujw/AAAAAAAAAAI/AAAAAAAAWA8/3iDVQO6IL0w/s50-c-k-no/photo.jpg",
            "userId": "104154383372735234904"
          }
        }
      },
      "cell_type": "code",
      "source": [
        "animals.add('fish')      # Agrega un elemento a un conjunto\n",
        "print ('fish' in animals)\n",
        "print (len(animals))       # Numero de elementos en un conjunto"
      ],
      "execution_count": 0,
      "outputs": [
        {
          "output_type": "stream",
          "text": [
            "True\n",
            "3\n"
          ],
          "name": "stdout"
        }
      ]
    },
    {
      "metadata": {
        "id": "4WOQYagQ5q4W",
        "colab_type": "code",
        "colab": {
          "autoexec": {
            "startup": false,
            "wait_interval": 0
          },
          "output_extras": [
            {}
          ],
          "base_uri": "https://localhost:8080/",
          "height": 51
        },
        "outputId": "7da80f89-f370-4516-8a78-9b93ea767f78",
        "executionInfo": {
          "status": "ok",
          "timestamp": 1521727387180,
          "user_tz": 180,
          "elapsed": 1430,
          "user": {
            "displayName": "Rosana Matuk",
            "photoUrl": "//lh5.googleusercontent.com/-pwKtU543ujw/AAAAAAAAAAI/AAAAAAAAWA8/3iDVQO6IL0w/s50-c-k-no/photo.jpg",
            "userId": "104154383372735234904"
          }
        }
      },
      "cell_type": "code",
      "source": [
        "animals.add('cat')       # Agregar al conjunto un elemento que ya está en él, no hace nada\n",
        "print (len(animals))       \n",
        "animals.remove('cat')    # Remueve un elemento de un conjunto\n",
        "print (len(animals))       "
      ],
      "execution_count": 0,
      "outputs": [
        {
          "output_type": "stream",
          "text": [
            "3\n",
            "2\n"
          ],
          "name": "stdout"
        }
      ]
    },
    {
      "metadata": {
        "id": "hq0u2OQT5q4b",
        "colab_type": "text"
      },
      "cell_type": "markdown",
      "source": [
        "_Loops_: Iterar sobre un conjunto tiene la misma sintaxis que sobre una lista; sin embargo, como los conjuntos no tienen orden, no se puede saber el orden en el cuál se visitarán los elementos del conjunto:"
      ]
    },
    {
      "metadata": {
        "id": "0UFyLDm55q4c",
        "colab_type": "code",
        "colab": {
          "autoexec": {
            "startup": false,
            "wait_interval": 0
          },
          "output_extras": [
            {}
          ],
          "base_uri": "https://localhost:8080/",
          "height": 68
        },
        "outputId": "6f049d44-7b56-447d-93b3-8e1adf275a72",
        "executionInfo": {
          "status": "ok",
          "timestamp": 1521727900333,
          "user_tz": 180,
          "elapsed": 720,
          "user": {
            "displayName": "Rosana Matuk",
            "photoUrl": "//lh5.googleusercontent.com/-pwKtU543ujw/AAAAAAAAAAI/AAAAAAAAWA8/3iDVQO6IL0w/s50-c-k-no/photo.jpg",
            "userId": "104154383372735234904"
          }
        }
      },
      "cell_type": "code",
      "source": [
        "animals = {'cat', 'dog', 'fish'}\n",
        "for idx, animal in enumerate(animals):\n",
        "    print ('#%d: %s' % (idx + 1, animal))"
      ],
      "execution_count": 0,
      "outputs": [
        {
          "output_type": "stream",
          "text": [
            "#1: cat\n",
            "#2: dog\n",
            "#3: fish\n"
          ],
          "name": "stdout"
        }
      ]
    },
    {
      "metadata": {
        "id": "27txGVy95q4g",
        "colab_type": "text"
      },
      "cell_type": "markdown",
      "source": [
        "Definición de conjuntos por comprensión:"
      ]
    },
    {
      "metadata": {
        "id": "Z8HkXcfM5q4h",
        "colab_type": "code",
        "colab": {
          "autoexec": {
            "startup": false,
            "wait_interval": 0
          },
          "output_extras": [
            {}
          ],
          "base_uri": "https://localhost:8080/",
          "height": 34
        },
        "outputId": "e4365b7d-3fb2-4450-d8b8-137c05b148d0",
        "executionInfo": {
          "status": "ok",
          "timestamp": 1521727949978,
          "user_tz": 180,
          "elapsed": 784,
          "user": {
            "displayName": "Rosana Matuk",
            "photoUrl": "//lh5.googleusercontent.com/-pwKtU543ujw/AAAAAAAAAAI/AAAAAAAAWA8/3iDVQO6IL0w/s50-c-k-no/photo.jpg",
            "userId": "104154383372735234904"
          }
        }
      },
      "cell_type": "code",
      "source": [
        "from math import sqrt\n",
        "print ({int(sqrt(x)) for x in range(30)})"
      ],
      "execution_count": 0,
      "outputs": [
        {
          "output_type": "stream",
          "text": [
            "{0, 1, 2, 3, 4, 5}\n"
          ],
          "name": "stdout"
        }
      ]
    },
    {
      "metadata": {
        "id": "fL0UctlO5q4j",
        "colab_type": "text"
      },
      "cell_type": "markdown",
      "source": [
        "####Tuplas"
      ]
    },
    {
      "metadata": {
        "id": "iezj80Mu5q4j",
        "colab_type": "text"
      },
      "cell_type": "markdown",
      "source": [
        "Una tupla es una lista inmodificable de valores. Las tuplas son similares a las listas, pero al ser inmutables, las tuplas pueden ser usadas como claves en los diccionarios, mientras que las listas no. Ejemplo:\n",
        "\n"
      ]
    },
    {
      "metadata": {
        "id": "mdEyq1hC5q4k",
        "colab_type": "code",
        "colab": {
          "autoexec": {
            "startup": false,
            "wait_interval": 0
          },
          "output_extras": [
            {}
          ],
          "base_uri": "https://localhost:8080/",
          "height": 68
        },
        "outputId": "1162752d-dbb1-48c0-cafa-13c871a63566",
        "executionInfo": {
          "status": "ok",
          "timestamp": 1521728269721,
          "user_tz": 180,
          "elapsed": 674,
          "user": {
            "displayName": "Rosana Matuk",
            "photoUrl": "//lh5.googleusercontent.com/-pwKtU543ujw/AAAAAAAAAAI/AAAAAAAAWA8/3iDVQO6IL0w/s50-c-k-no/photo.jpg",
            "userId": "104154383372735234904"
          }
        }
      },
      "cell_type": "code",
      "source": [
        "d = {(x, x + 1): x for x in range(10)}  # Crea un diccionario con claves tuplas\n",
        "t = (5, 6)       # Crea una tupla\n",
        "print (type(t))\n",
        "print (d[t])       \n",
        "print (d[(1, 2)])"
      ],
      "execution_count": 0,
      "outputs": [
        {
          "output_type": "stream",
          "text": [
            "<class 'tuple'>\n",
            "5\n",
            "1\n"
          ],
          "name": "stdout"
        }
      ]
    },
    {
      "metadata": {
        "id": "QTbRg_s75q4n",
        "colab_type": "code",
        "colab": {
          "autoexec": {
            "startup": false,
            "wait_interval": 0
          },
          "output_extras": [
            {}
          ],
          "base_uri": "https://localhost:8080/",
          "height": 164
        },
        "outputId": "5d8fa328-2eae-4813-ec4c-d745295e09a5",
        "executionInfo": {
          "status": "error",
          "timestamp": 1521728278387,
          "user_tz": 180,
          "elapsed": 714,
          "user": {
            "displayName": "Rosana Matuk",
            "photoUrl": "//lh5.googleusercontent.com/-pwKtU543ujw/AAAAAAAAAAI/AAAAAAAAWA8/3iDVQO6IL0w/s50-c-k-no/photo.jpg",
            "userId": "104154383372735234904"
          }
        }
      },
      "cell_type": "code",
      "source": [
        "t[0] = 1"
      ],
      "execution_count": 0,
      "outputs": [
        {
          "output_type": "error",
          "ename": "TypeError",
          "evalue": "ignored",
          "traceback": [
            "\u001b[0;31m---------------------------------------------------------------------------\u001b[0m",
            "\u001b[0;31mTypeError\u001b[0m                                 Traceback (most recent call last)",
            "\u001b[0;32m<ipython-input-55-c8aeb8cd20ae>\u001b[0m in \u001b[0;36m<module>\u001b[0;34m()\u001b[0m\n\u001b[0;32m----> 1\u001b[0;31m \u001b[0mt\u001b[0m\u001b[0;34m[\u001b[0m\u001b[0;36m0\u001b[0m\u001b[0;34m]\u001b[0m \u001b[0;34m=\u001b[0m \u001b[0;36m1\u001b[0m\u001b[0;34m\u001b[0m\u001b[0m\n\u001b[0m",
            "\u001b[0;31mTypeError\u001b[0m: 'tuple' object does not support item assignment"
          ]
        }
      ]
    },
    {
      "metadata": {
        "id": "w1VXSG2s5q4q",
        "colab_type": "text"
      },
      "cell_type": "markdown",
      "source": [
        "###Funciones"
      ]
    },
    {
      "metadata": {
        "id": "-4lAKLDY5q4r",
        "colab_type": "text"
      },
      "cell_type": "markdown",
      "source": [
        "En Python, las funciones son definidas usando la keyword `def`. Por ejemplo:"
      ]
    },
    {
      "metadata": {
        "id": "oysjtHVh5q4s",
        "colab_type": "code",
        "colab": {
          "autoexec": {
            "startup": false,
            "wait_interval": 0
          },
          "output_extras": [
            {}
          ],
          "base_uri": "https://localhost:8080/",
          "height": 68
        },
        "outputId": "7557ed93-31df-411f-c54e-af28bffdadf2",
        "executionInfo": {
          "status": "ok",
          "timestamp": 1521728372190,
          "user_tz": 180,
          "elapsed": 692,
          "user": {
            "displayName": "Rosana Matuk",
            "photoUrl": "//lh5.googleusercontent.com/-pwKtU543ujw/AAAAAAAAAAI/AAAAAAAAWA8/3iDVQO6IL0w/s50-c-k-no/photo.jpg",
            "userId": "104154383372735234904"
          }
        }
      },
      "cell_type": "code",
      "source": [
        "def sign(x):\n",
        "    if x > 0:\n",
        "        return 'positive'\n",
        "    elif x < 0:\n",
        "        return 'negative'\n",
        "    else:\n",
        "        return 'zero'\n",
        "\n",
        "for x in [-1, 0, 1]:\n",
        "    print (sign(x))"
      ],
      "execution_count": 0,
      "outputs": [
        {
          "output_type": "stream",
          "text": [
            "negative\n",
            "zero\n",
            "positive\n"
          ],
          "name": "stdout"
        }
      ]
    },
    {
      "metadata": {
        "id": "YhQkNfyd5q4x",
        "colab_type": "text"
      },
      "cell_type": "markdown",
      "source": [
        "Frecuentemente se necesitan definir funciones que tomen argumentos opcionales. Ejemplo:"
      ]
    },
    {
      "metadata": {
        "id": "TH04kWxK5q4y",
        "colab_type": "code",
        "colab": {
          "autoexec": {
            "startup": false,
            "wait_interval": 0
          },
          "output_extras": [
            {}
          ],
          "base_uri": "https://localhost:8080/",
          "height": 51
        },
        "outputId": "1ed87771-fa6a-4078-b617-28ce8ec9e5e2",
        "executionInfo": {
          "status": "ok",
          "timestamp": 1521728712767,
          "user_tz": 180,
          "elapsed": 656,
          "user": {
            "displayName": "Rosana Matuk",
            "photoUrl": "//lh5.googleusercontent.com/-pwKtU543ujw/AAAAAAAAAAI/AAAAAAAAWA8/3iDVQO6IL0w/s50-c-k-no/photo.jpg",
            "userId": "104154383372735234904"
          }
        }
      },
      "cell_type": "code",
      "source": [
        "def hello(name, loud=False):\n",
        "    if loud:\n",
        "        print ('HELLO, %s' % name.upper())\n",
        "    else:\n",
        "        print ('Hello, %s!' % name)\n",
        "\n",
        "hello('Bob')\n",
        "hello('Fred', loud=True)"
      ],
      "execution_count": 0,
      "outputs": [
        {
          "output_type": "stream",
          "text": [
            "Hello, Bob!\n",
            "HELLO, FRED\n"
          ],
          "name": "stdout"
        }
      ]
    },
    {
      "metadata": {
        "id": "Xvw1X4q25q42",
        "colab_type": "text"
      },
      "cell_type": "markdown",
      "source": [
        "###Clases"
      ]
    },
    {
      "metadata": {
        "id": "5ungbMSi5q42",
        "colab_type": "text"
      },
      "cell_type": "markdown",
      "source": [
        "La sintaxis para definir clases en Python es la siguiente:"
      ]
    },
    {
      "metadata": {
        "id": "P6H_HlXX5q42",
        "colab_type": "code",
        "colab": {
          "autoexec": {
            "startup": false,
            "wait_interval": 0
          },
          "output_extras": [
            {}
          ],
          "base_uri": "https://localhost:8080/",
          "height": 51
        },
        "outputId": "6fb9643e-c306-470a-bf83-57a3a0329793",
        "executionInfo": {
          "status": "ok",
          "timestamp": 1521728944573,
          "user_tz": 180,
          "elapsed": 1042,
          "user": {
            "displayName": "Rosana Matuk",
            "photoUrl": "//lh5.googleusercontent.com/-pwKtU543ujw/AAAAAAAAAAI/AAAAAAAAWA8/3iDVQO6IL0w/s50-c-k-no/photo.jpg",
            "userId": "104154383372735234904"
          }
        }
      },
      "cell_type": "code",
      "source": [
        "class Greeter:\n",
        "\n",
        "    # Constructor\n",
        "    def __init__(self, name):\n",
        "        self.name = name  # Crea una instancia de la variable\n",
        "\n",
        "    # Un método de la clase\n",
        "    def greet(self, loud=False):\n",
        "        if loud:\n",
        "            print ('HELLO, %s!' % self.name.upper())\n",
        "        else:\n",
        "            print ('Hello, %s' % self.name)\n",
        "\n",
        "g = Greeter('Fred')  # Construye una instancia de la clase Greeter\n",
        "g.greet()            # Llama al método de la clase; imprime \"Hello, Fred\"\n",
        "g.greet(loud=True)   # Llama al método de la clase; imprime \"HELLO, FRED!\""
      ],
      "execution_count": 0,
      "outputs": [
        {
          "output_type": "stream",
          "text": [
            "Hello, Fred\n",
            "HELLO, FRED!\n"
          ],
          "name": "stdout"
        }
      ]
    },
    {
      "metadata": {
        "id": "HC8PPoa55q44",
        "colab_type": "text"
      },
      "cell_type": "markdown",
      "source": [
        "##Numpy"
      ]
    },
    {
      "metadata": {
        "id": "icQHJIvK5q45",
        "colab_type": "text"
      },
      "cell_type": "markdown",
      "source": [
        "Numpy es la librería central para cómputo científico en Python (ver la documentación en [referencia](https://docs.scipy.org/doc/numpy-1.14.0/reference/)). Provee arrays multidimensionales de alta performance, y herramientas para trabajar con estos arrays. Para los que saben MATLAB, les puede ser útil este [tutorial](http://wiki.scipy.org/NumPy_for_Matlab_Users) para empezar con Numpy."
      ]
    },
    {
      "metadata": {
        "id": "PNXqmeC45q46",
        "colab_type": "text"
      },
      "cell_type": "markdown",
      "source": [
        "Para utilizar Numpy, lo primero que debemos hacer es importar el paquete `numpy`:"
      ]
    },
    {
      "metadata": {
        "id": "nwFkFb_d5q47",
        "colab_type": "code",
        "colab": {
          "autoexec": {
            "startup": false,
            "wait_interval": 0
          }
        }
      },
      "cell_type": "code",
      "source": [
        "import numpy as np"
      ],
      "execution_count": 0,
      "outputs": []
    },
    {
      "metadata": {
        "id": "oEMc8JJP5q4-",
        "colab_type": "text"
      },
      "cell_type": "markdown",
      "source": [
        "###Arrays"
      ]
    },
    {
      "metadata": {
        "id": "qY5T4B_55q4_",
        "colab_type": "text"
      },
      "cell_type": "markdown",
      "source": [
        "Un arreglo en numpy es una grilla de valores, todos del mismo tipo, y que está indexada por una tupla de enteros no negativos. El número de dimensiones es el rango del array; la forma del array es una tupla de enteros que nos da el tamaño del array a lo largo de cada dimensión."
      ]
    },
    {
      "metadata": {
        "id": "ujIKsN7n5q4_",
        "colab_type": "text"
      },
      "cell_type": "markdown",
      "source": [
        "Podemos inicializar numpy arrays con listas anidadas de Python, y acceder a sus elementos usando llaves cuadradas ([]):"
      ]
    },
    {
      "metadata": {
        "id": "2T4S0Y8_5q5A",
        "colab_type": "code",
        "colab": {
          "autoexec": {
            "startup": false,
            "wait_interval": 0
          },
          "output_extras": [
            {}
          ],
          "base_uri": "https://localhost:8080/",
          "height": 51
        },
        "outputId": "f369630f-285c-49b2-8e63-c9050175caa3",
        "executionInfo": {
          "status": "ok",
          "timestamp": 1521729723987,
          "user_tz": 180,
          "elapsed": 668,
          "user": {
            "displayName": "Rosana Matuk",
            "photoUrl": "//lh5.googleusercontent.com/-pwKtU543ujw/AAAAAAAAAAI/AAAAAAAAWA8/3iDVQO6IL0w/s50-c-k-no/photo.jpg",
            "userId": "104154383372735234904"
          }
        }
      },
      "cell_type": "code",
      "source": [
        "a = np.array([1, 2, 3])  # Crea un array de rango 1\n",
        "print (type(a), a.shape, a[0], a[1], a[2])\n",
        "a[0] = 5                 # Cambia un elemento del array\n",
        "print (a)                  "
      ],
      "execution_count": 0,
      "outputs": [
        {
          "output_type": "stream",
          "text": [
            "<class 'numpy.ndarray'> (3,) 1 2 3\n",
            "[5 2 3]\n"
          ],
          "name": "stdout"
        }
      ]
    },
    {
      "metadata": {
        "id": "Cxp0IQI_5q5D",
        "colab_type": "code",
        "colab": {
          "autoexec": {
            "startup": false,
            "wait_interval": 0
          },
          "output_extras": [
            {}
          ],
          "base_uri": "https://localhost:8080/",
          "height": 51
        },
        "outputId": "8c75a8c4-7709-4d03-ccc6-5e30dba8fbac",
        "executionInfo": {
          "status": "ok",
          "timestamp": 1521729766438,
          "user_tz": 180,
          "elapsed": 1041,
          "user": {
            "displayName": "Rosana Matuk",
            "photoUrl": "//lh5.googleusercontent.com/-pwKtU543ujw/AAAAAAAAAAI/AAAAAAAAWA8/3iDVQO6IL0w/s50-c-k-no/photo.jpg",
            "userId": "104154383372735234904"
          }
        }
      },
      "cell_type": "code",
      "source": [
        "b = np.array([[1,2,3],[4,5,6]])   # Crea un array de rango 2\n",
        "print (b)"
      ],
      "execution_count": 0,
      "outputs": [
        {
          "output_type": "stream",
          "text": [
            "[[1 2 3]\n",
            " [4 5 6]]\n"
          ],
          "name": "stdout"
        }
      ]
    },
    {
      "metadata": {
        "id": "NC7ntYGk5q5E",
        "colab_type": "code",
        "colab": {
          "autoexec": {
            "startup": false,
            "wait_interval": 0
          },
          "output_extras": [
            {}
          ],
          "base_uri": "https://localhost:8080/",
          "height": 51
        },
        "outputId": "9b6d50d8-343e-4dc3-f8f3-2b19d32d0002",
        "executionInfo": {
          "status": "ok",
          "timestamp": 1521729793570,
          "user_tz": 180,
          "elapsed": 735,
          "user": {
            "displayName": "Rosana Matuk",
            "photoUrl": "//lh5.googleusercontent.com/-pwKtU543ujw/AAAAAAAAAAI/AAAAAAAAWA8/3iDVQO6IL0w/s50-c-k-no/photo.jpg",
            "userId": "104154383372735234904"
          }
        }
      },
      "cell_type": "code",
      "source": [
        "print (b.shape)                   \n",
        "print (b[0, 0], b[0, 1], b[1, 0])"
      ],
      "execution_count": 0,
      "outputs": [
        {
          "output_type": "stream",
          "text": [
            "(2, 3)\n",
            "1 2 4\n"
          ],
          "name": "stdout"
        }
      ]
    },
    {
      "metadata": {
        "id": "XVEgPUy45q5H",
        "colab_type": "text"
      },
      "cell_type": "markdown",
      "source": [
        "Numpy tiene además muchas funciones para crear arrays:"
      ]
    },
    {
      "metadata": {
        "id": "J6asuT0G5q5H",
        "colab_type": "code",
        "colab": {
          "autoexec": {
            "startup": false,
            "wait_interval": 0
          },
          "output_extras": [
            {}
          ],
          "base_uri": "https://localhost:8080/",
          "height": 51
        },
        "outputId": "c519a5a8-4cbd-427d-bfee-02a0b6b74807",
        "executionInfo": {
          "status": "ok",
          "timestamp": 1521729872530,
          "user_tz": 180,
          "elapsed": 658,
          "user": {
            "displayName": "Rosana Matuk",
            "photoUrl": "//lh5.googleusercontent.com/-pwKtU543ujw/AAAAAAAAAAI/AAAAAAAAWA8/3iDVQO6IL0w/s50-c-k-no/photo.jpg",
            "userId": "104154383372735234904"
          }
        }
      },
      "cell_type": "code",
      "source": [
        "a = np.zeros((2,2))  # Crea an array de todos ceros\n",
        "print (a)"
      ],
      "execution_count": 0,
      "outputs": [
        {
          "output_type": "stream",
          "text": [
            "[[0. 0.]\n",
            " [0. 0.]]\n"
          ],
          "name": "stdout"
        }
      ]
    },
    {
      "metadata": {
        "id": "No4YcRSX5q5J",
        "colab_type": "code",
        "colab": {
          "autoexec": {
            "startup": false,
            "wait_interval": 0
          },
          "output_extras": [
            {}
          ],
          "base_uri": "https://localhost:8080/",
          "height": 34
        },
        "outputId": "12ecbed7-1d9f-4b2f-a486-c0f09ad91a84",
        "executionInfo": {
          "status": "ok",
          "timestamp": 1521729879042,
          "user_tz": 180,
          "elapsed": 652,
          "user": {
            "displayName": "Rosana Matuk",
            "photoUrl": "//lh5.googleusercontent.com/-pwKtU543ujw/AAAAAAAAAAI/AAAAAAAAWA8/3iDVQO6IL0w/s50-c-k-no/photo.jpg",
            "userId": "104154383372735234904"
          }
        }
      },
      "cell_type": "code",
      "source": [
        "b = np.ones((1,2))   # Crea un array de todos unos\n",
        "print (b)"
      ],
      "execution_count": 0,
      "outputs": [
        {
          "output_type": "stream",
          "text": [
            "[[1. 1.]]\n"
          ],
          "name": "stdout"
        }
      ]
    },
    {
      "metadata": {
        "id": "arHMvOhi5q5L",
        "colab_type": "code",
        "colab": {
          "autoexec": {
            "startup": false,
            "wait_interval": 0
          },
          "output_extras": [
            {}
          ],
          "base_uri": "https://localhost:8080/",
          "height": 51
        },
        "outputId": "b7aae121-d6d3-44ed-ea95-f0a89b13dfa4",
        "executionInfo": {
          "status": "ok",
          "timestamp": 1521729911449,
          "user_tz": 180,
          "elapsed": 669,
          "user": {
            "displayName": "Rosana Matuk",
            "photoUrl": "//lh5.googleusercontent.com/-pwKtU543ujw/AAAAAAAAAAI/AAAAAAAAWA8/3iDVQO6IL0w/s50-c-k-no/photo.jpg",
            "userId": "104154383372735234904"
          }
        }
      },
      "cell_type": "code",
      "source": [
        "c = np.full((2,2), 7) # Crea un array de valores constantes \n",
        "print (c) "
      ],
      "execution_count": 0,
      "outputs": [
        {
          "output_type": "stream",
          "text": [
            "[[7 7]\n",
            " [7 7]]\n"
          ],
          "name": "stdout"
        }
      ]
    },
    {
      "metadata": {
        "id": "BVuZ89NW5q5M",
        "colab_type": "code",
        "colab": {
          "autoexec": {
            "startup": false,
            "wait_interval": 0
          },
          "output_extras": [
            {}
          ],
          "base_uri": "https://localhost:8080/",
          "height": 51
        },
        "outputId": "a7959c3e-07d7-42cd-f78e-e41ff53047a6",
        "executionInfo": {
          "status": "ok",
          "timestamp": 1521729941559,
          "user_tz": 180,
          "elapsed": 687,
          "user": {
            "displayName": "Rosana Matuk",
            "photoUrl": "//lh5.googleusercontent.com/-pwKtU543ujw/AAAAAAAAAAI/AAAAAAAAWA8/3iDVQO6IL0w/s50-c-k-no/photo.jpg",
            "userId": "104154383372735234904"
          }
        }
      },
      "cell_type": "code",
      "source": [
        "d = np.eye(2)        # Crea una matrix identidad de 2x2\n",
        "print (d)"
      ],
      "execution_count": 0,
      "outputs": [
        {
          "output_type": "stream",
          "text": [
            "[[1. 0.]\n",
            " [0. 1.]]\n"
          ],
          "name": "stdout"
        }
      ]
    },
    {
      "metadata": {
        "id": "tY58UMFk5q5P",
        "colab_type": "code",
        "colab": {
          "autoexec": {
            "startup": false,
            "wait_interval": 0
          },
          "output_extras": [
            {}
          ],
          "base_uri": "https://localhost:8080/",
          "height": 51
        },
        "outputId": "e1ee9eab-6c1f-41ae-e92e-7fc233385962",
        "executionInfo": {
          "status": "ok",
          "timestamp": 1521729967690,
          "user_tz": 180,
          "elapsed": 665,
          "user": {
            "displayName": "Rosana Matuk",
            "photoUrl": "//lh5.googleusercontent.com/-pwKtU543ujw/AAAAAAAAAAI/AAAAAAAAWA8/3iDVQO6IL0w/s50-c-k-no/photo.jpg",
            "userId": "104154383372735234904"
          }
        }
      },
      "cell_type": "code",
      "source": [
        "e = np.random.random((2,2)) # Crea un array de valores random\n",
        "print (e)"
      ],
      "execution_count": 0,
      "outputs": [
        {
          "output_type": "stream",
          "text": [
            "[[0.86719561 0.15316347]\n",
            " [0.81727083 0.38826655]]\n"
          ],
          "name": "stdout"
        }
      ]
    },
    {
      "metadata": {
        "id": "Cm1XbIVO5q5Q",
        "colab_type": "text"
      },
      "cell_type": "markdown",
      "source": [
        "###Array indexing"
      ]
    },
    {
      "metadata": {
        "id": "pPuZbM_Z5q5R",
        "colab_type": "text"
      },
      "cell_type": "markdown",
      "source": [
        "Numpy nos ofrece varias formas de indexar arrays."
      ]
    },
    {
      "metadata": {
        "id": "NHei_ely5q5R",
        "colab_type": "text"
      },
      "cell_type": "markdown",
      "source": [
        "Slicing: Como las listas en Python, los numpy arrays puede ser sliced. Como los arrays son multidimensionales, se debe especificar un slice para cada dimensión del array:"
      ]
    },
    {
      "metadata": {
        "id": "CFp3nn085q5R",
        "colab_type": "code",
        "colab": {
          "autoexec": {
            "startup": false,
            "wait_interval": 0
          },
          "output_extras": [
            {}
          ],
          "base_uri": "https://localhost:8080/",
          "height": 51
        },
        "outputId": "2f9aa020-e0a1-4425-de5e-66c448ffbcfa",
        "executionInfo": {
          "status": "ok",
          "timestamp": 1521730236757,
          "user_tz": 180,
          "elapsed": 828,
          "user": {
            "displayName": "Rosana Matuk",
            "photoUrl": "//lh5.googleusercontent.com/-pwKtU543ujw/AAAAAAAAAAI/AAAAAAAAWA8/3iDVQO6IL0w/s50-c-k-no/photo.jpg",
            "userId": "104154383372735234904"
          }
        }
      },
      "cell_type": "code",
      "source": [
        "import numpy as np\n",
        "\n",
        "# Crea el siguiente array de rango 2 con dimensiones (3, 4)\n",
        "# [[ 1  2  3  4]\n",
        "#  [ 5  6  7  8]\n",
        "#  [ 9 10 11 12]]\n",
        "a = np.array([[1,2,3,4], [5,6,7,8], [9,10,11,12]])\n",
        "\n",
        "# Usa slicing para extraer el subarray consistente de las dos primeras filas\n",
        "# y las columnas 1 y 2; b es el siguiente array de dimensión (2, 2):\n",
        "# [[2 3]\n",
        "#  [6 7]]\n",
        "b = a[:2, 1:3]\n",
        "print (b)"
      ],
      "execution_count": 0,
      "outputs": [
        {
          "output_type": "stream",
          "text": [
            "[[2 3]\n",
            " [6 7]]\n"
          ],
          "name": "stdout"
        }
      ]
    },
    {
      "metadata": {
        "id": "21E__llI5q5T",
        "colab_type": "text"
      },
      "cell_type": "markdown",
      "source": [
        "Atención: Un slice de un array es una vista a posiciones en memoria de los datos originales, y si modificamos el slice, modificamos los datos del array original."
      ]
    },
    {
      "metadata": {
        "id": "5G-xCH_n5q5T",
        "colab_type": "code",
        "colab": {
          "autoexec": {
            "startup": false,
            "wait_interval": 0
          },
          "output_extras": [
            {}
          ],
          "base_uri": "https://localhost:8080/",
          "height": 51
        },
        "outputId": "41cedb19-7b02-4772-9110-3db3aabfc73f",
        "executionInfo": {
          "status": "ok",
          "timestamp": 1521730457406,
          "user_tz": 180,
          "elapsed": 662,
          "user": {
            "displayName": "Rosana Matuk",
            "photoUrl": "//lh5.googleusercontent.com/-pwKtU543ujw/AAAAAAAAAAI/AAAAAAAAWA8/3iDVQO6IL0w/s50-c-k-no/photo.jpg",
            "userId": "104154383372735234904"
          }
        }
      },
      "cell_type": "code",
      "source": [
        "print (a[0, 1])  \n",
        "b[0, 0] = 77    # b[0, 0] apunta a la misma posición en memoria que a[0, 1]\n",
        "print (a[0, 1]) "
      ],
      "execution_count": 0,
      "outputs": [
        {
          "output_type": "stream",
          "text": [
            "2\n",
            "77\n"
          ],
          "name": "stdout"
        }
      ]
    },
    {
      "metadata": {
        "id": "7YnhuQqw5q5V",
        "colab_type": "text"
      },
      "cell_type": "markdown",
      "source": [
        "Podés mezclar integer indexing con slice indexing. Sin embargo, esto nos dará un array de menor rango que el array original."
      ]
    },
    {
      "metadata": {
        "id": "P3l4gKyp5q5X",
        "colab_type": "code",
        "colab": {
          "autoexec": {
            "startup": false,
            "wait_interval": 0
          },
          "output_extras": [
            {}
          ],
          "base_uri": "https://localhost:8080/",
          "height": 68
        },
        "outputId": "6ad2eedf-af34-47ae-e695-2aff09a5add3",
        "executionInfo": {
          "status": "ok",
          "timestamp": 1521730752954,
          "user_tz": 180,
          "elapsed": 525,
          "user": {
            "displayName": "Rosana Matuk",
            "photoUrl": "//lh5.googleusercontent.com/-pwKtU543ujw/AAAAAAAAAAI/AAAAAAAAWA8/3iDVQO6IL0w/s50-c-k-no/photo.jpg",
            "userId": "104154383372735234904"
          }
        }
      },
      "cell_type": "code",
      "source": [
        "# Crea un array de rango 2 array de forma (3, 4)\n",
        "a = np.array([[1,2,3,4], [5,6,7,8], [9,10,11,12]])\n",
        "print (a)"
      ],
      "execution_count": 0,
      "outputs": [
        {
          "output_type": "stream",
          "text": [
            "[[ 1  2  3  4]\n",
            " [ 5  6  7  8]\n",
            " [ 9 10 11 12]]\n"
          ],
          "name": "stdout"
        }
      ]
    },
    {
      "metadata": {
        "id": "abW3Kruq5q5Z",
        "colab_type": "text"
      },
      "cell_type": "markdown",
      "source": [
        "Dos formas de acceder a los datos en la fila media del array.\n",
        "Mezclar integer indexing con slices produce un array de menor rango, mientras que usar solo slices produce un array del mismo rango que el array original:"
      ]
    },
    {
      "metadata": {
        "id": "VtPRP0Gi5q5a",
        "colab_type": "code",
        "colab": {
          "autoexec": {
            "startup": false,
            "wait_interval": 0
          },
          "output_extras": [
            {}
          ],
          "base_uri": "https://localhost:8080/",
          "height": 68
        },
        "outputId": "097f871b-a4c1-4591-dbef-671b9c388090",
        "executionInfo": {
          "status": "ok",
          "timestamp": 1521733243007,
          "user_tz": 180,
          "elapsed": 692,
          "user": {
            "displayName": "Rosana Matuk",
            "photoUrl": "//lh5.googleusercontent.com/-pwKtU543ujw/AAAAAAAAAAI/AAAAAAAAWA8/3iDVQO6IL0w/s50-c-k-no/photo.jpg",
            "userId": "104154383372735234904"
          }
        }
      },
      "cell_type": "code",
      "source": [
        "row_r1 = a[1, :]    # Vista Rango 1 de la segunda fila de a  \n",
        "row_r2 = a[1:2, :]  # Vista Rango 2 de la segunda fila de a \n",
        "row_r3 = a[[1], :]  # Vista Rango 2 de la segunda fila de a \n",
        "print (row_r1, row_r1.shape) \n",
        "print (row_r2, row_r2.shape)\n",
        "print (row_r3, row_r3.shape)"
      ],
      "execution_count": 0,
      "outputs": [
        {
          "output_type": "stream",
          "text": [
            "[5 6 7 8] (4,)\n",
            "[[5 6 7 8]] (1, 4)\n",
            "[[5 6 7 8]] (1, 4)\n"
          ],
          "name": "stdout"
        }
      ]
    },
    {
      "metadata": {
        "id": "eTCT0bct5q5c",
        "colab_type": "code",
        "colab": {
          "autoexec": {
            "startup": false,
            "wait_interval": 0
          },
          "output_extras": [
            {}
          ],
          "base_uri": "https://localhost:8080/",
          "height": 85
        },
        "outputId": "3b476ea6-970e-48cf-b649-3748311d2cbe",
        "executionInfo": {
          "status": "ok",
          "timestamp": 1521733417335,
          "user_tz": 180,
          "elapsed": 666,
          "user": {
            "displayName": "Rosana Matuk",
            "photoUrl": "//lh5.googleusercontent.com/-pwKtU543ujw/AAAAAAAAAAI/AAAAAAAAWA8/3iDVQO6IL0w/s50-c-k-no/photo.jpg",
            "userId": "104154383372735234904"
          }
        }
      },
      "cell_type": "code",
      "source": [
        "# Ejemplo accediendo a las columnas del array:\n",
        "col_r1 = a[:, 1]\n",
        "col_r2 = a[:, 1:2]\n",
        "print (col_r1, col_r1.shape)\n",
        "\n",
        "print (col_r2, col_r2.shape)"
      ],
      "execution_count": 0,
      "outputs": [
        {
          "output_type": "stream",
          "text": [
            "[ 2  6 10] (3,)\n",
            "[[ 2]\n",
            " [ 6]\n",
            " [10]] (3, 1)\n"
          ],
          "name": "stdout"
        }
      ]
    },
    {
      "metadata": {
        "id": "scGrCnbk5q5h",
        "colab_type": "text"
      },
      "cell_type": "markdown",
      "source": [
        "Integer array indexing: Cuando se indexa los numpy arrays usando slicing, el array resultante será siempre un subarray del array original. Por el contrario, usar integer indexing permite construir arrays arbitrarios usando datos de otro array. Ejemplo:"
      ]
    },
    {
      "metadata": {
        "id": "CcvqvKKx5q5i",
        "colab_type": "code",
        "colab": {
          "autoexec": {
            "startup": false,
            "wait_interval": 0
          },
          "output_extras": [
            {}
          ],
          "base_uri": "https://localhost:8080/",
          "height": 51
        },
        "outputId": "a6475da6-da69-45cb-ba55-ada8564e8084",
        "executionInfo": {
          "status": "ok",
          "timestamp": 1522254850352,
          "user_tz": 180,
          "elapsed": 650,
          "user": {
            "displayName": "Rosana Matuk",
            "photoUrl": "//lh5.googleusercontent.com/-pwKtU543ujw/AAAAAAAAAAI/AAAAAAAAWA8/3iDVQO6IL0w/s50-c-k-no/photo.jpg",
            "userId": "104154383372735234904"
          }
        }
      },
      "cell_type": "code",
      "source": [
        "import numpy as np\n",
        "\n",
        "a = np.array([[1,2], [3, 4], [5, 6]])\n",
        "\n",
        "# Un ejemplo de integer array indexing.\n",
        "# El array resultado tiene forma (3,) \n",
        "int_idx1 = a[[0, 1, 2], [0, 1, 0]]\n",
        "print (int_idx1, int_idx1.shape)\n",
        "\n",
        "# El ejemplo anterior es equivalente al siguiente:\n",
        "int_idx2 = np.array([a[0, 0], a[1, 1], a[2, 0]])\n",
        "print (int_idx2, int_idx2.shape)"
      ],
      "execution_count": 0,
      "outputs": [
        {
          "output_type": "stream",
          "text": [
            "[1 4 5] (3,)\n",
            "[1 4 5] (3,)\n"
          ],
          "name": "stdout"
        }
      ]
    },
    {
      "metadata": {
        "id": "Y4HIfrq05q5l",
        "colab_type": "code",
        "colab": {
          "autoexec": {
            "startup": false,
            "wait_interval": 0
          },
          "output_extras": [
            {}
          ],
          "base_uri": "https://localhost:8080/",
          "height": 51
        },
        "outputId": "72aec72c-7c02-4453-dc08-ae33483b1614",
        "executionInfo": {
          "status": "ok",
          "timestamp": 1522254852975,
          "user_tz": 180,
          "elapsed": 710,
          "user": {
            "displayName": "Rosana Matuk",
            "photoUrl": "//lh5.googleusercontent.com/-pwKtU543ujw/AAAAAAAAAAI/AAAAAAAAWA8/3iDVQO6IL0w/s50-c-k-no/photo.jpg",
            "userId": "104154383372735234904"
          }
        }
      },
      "cell_type": "code",
      "source": [
        "# Cuando se usa integer array indexing, se puede reusar el mismo\n",
        "# elemento del array fuente:\n",
        "print (a[[0, 0], [1, 1]])\n",
        "\n",
        "# Equivalente al ejemplo anterior\n",
        "print (np.array([a[0, 1], a[0, 1]]))"
      ],
      "execution_count": 0,
      "outputs": [
        {
          "output_type": "stream",
          "text": [
            "[2 2]\n",
            "[2 2]\n"
          ],
          "name": "stdout"
        }
      ]
    },
    {
      "metadata": {
        "id": "7p8DhBFQ5q5q",
        "colab_type": "text"
      },
      "cell_type": "markdown",
      "source": [
        "Integer array indexing también es útil para seleccionar o mutar un elemento de cada fila de una matriz:"
      ]
    },
    {
      "metadata": {
        "id": "d8AJ849O5q5r",
        "colab_type": "code",
        "colab": {
          "autoexec": {
            "startup": false,
            "wait_interval": 0
          },
          "output_extras": [
            {}
          ],
          "base_uri": "https://localhost:8080/",
          "height": 85
        },
        "outputId": "75ab081b-be58-4475-f939-1ce5fd812f07",
        "executionInfo": {
          "status": "ok",
          "timestamp": 1522254869351,
          "user_tz": 180,
          "elapsed": 659,
          "user": {
            "displayName": "Rosana Matuk",
            "photoUrl": "//lh5.googleusercontent.com/-pwKtU543ujw/AAAAAAAAAAI/AAAAAAAAWA8/3iDVQO6IL0w/s50-c-k-no/photo.jpg",
            "userId": "104154383372735234904"
          }
        }
      },
      "cell_type": "code",
      "source": [
        "# Crea un array nuevo\n",
        "a = np.array([[1,2,3], [4,5,6], [7,8,9], [10, 11, 12]])\n",
        "print (a)"
      ],
      "execution_count": 0,
      "outputs": [
        {
          "output_type": "stream",
          "text": [
            "[[ 1  2  3]\n",
            " [ 4  5  6]\n",
            " [ 7  8  9]\n",
            " [10 11 12]]\n"
          ],
          "name": "stdout"
        }
      ]
    },
    {
      "metadata": {
        "id": "QnezokHy5q5s",
        "colab_type": "code",
        "colab": {
          "autoexec": {
            "startup": false,
            "wait_interval": 0
          },
          "output_extras": [
            {}
          ],
          "base_uri": "https://localhost:8080/",
          "height": 34
        },
        "outputId": "d7f77c59-f4f4-47a4-8afb-f63a6b68d7f3",
        "executionInfo": {
          "status": "ok",
          "timestamp": 1522255841453,
          "user_tz": 180,
          "elapsed": 671,
          "user": {
            "displayName": "Rosana Matuk",
            "photoUrl": "//lh5.googleusercontent.com/-pwKtU543ujw/AAAAAAAAAAI/AAAAAAAAWA8/3iDVQO6IL0w/s50-c-k-no/photo.jpg",
            "userId": "104154383372735234904"
          }
        }
      },
      "cell_type": "code",
      "source": [
        "# Crea un array de indices\n",
        "b = np.array([0, 2, 0, 1])\n",
        "\n",
        "# Selecciona un elemento de cada fila de a usando los índices en b\n",
        "print (a[np.arange(4), b])  # Imprime \"[ 1  6  7 11]\""
      ],
      "execution_count": 0,
      "outputs": [
        {
          "output_type": "stream",
          "text": [
            "[ 1  6  7 11]\n"
          ],
          "name": "stdout"
        }
      ]
    },
    {
      "metadata": {
        "id": "_iXO2tyM5q5u",
        "colab_type": "code",
        "colab": {
          "autoexec": {
            "startup": false,
            "wait_interval": 0
          },
          "output_extras": [
            {}
          ],
          "base_uri": "https://localhost:8080/",
          "height": 85
        },
        "outputId": "0171b531-47b6-4a21-d3de-1410d6fb0077",
        "executionInfo": {
          "status": "ok",
          "timestamp": 1522255963484,
          "user_tz": 180,
          "elapsed": 686,
          "user": {
            "displayName": "Rosana Matuk",
            "photoUrl": "//lh5.googleusercontent.com/-pwKtU543ujw/AAAAAAAAAAI/AAAAAAAAWA8/3iDVQO6IL0w/s50-c-k-no/photo.jpg",
            "userId": "104154383372735234904"
          }
        }
      },
      "cell_type": "code",
      "source": [
        "# Muta un elemento de cada fila de a usando los índices en b\n",
        "a[np.arange(4), b] += 10\n",
        "print (a)"
      ],
      "execution_count": 0,
      "outputs": [
        {
          "output_type": "stream",
          "text": [
            "[[11  2  3]\n",
            " [ 4  5 16]\n",
            " [17  8  9]\n",
            " [10 21 12]]\n"
          ],
          "name": "stdout"
        }
      ]
    },
    {
      "metadata": {
        "id": "LkKSUFId5q5x",
        "colab_type": "text"
      },
      "cell_type": "markdown",
      "source": [
        "También se pueden seleccionar elementos de un array que satisfagan ciertas condiciones lógicas. Ejemplo:"
      ]
    },
    {
      "metadata": {
        "id": "Z8SEDQTu5q5x",
        "colab_type": "code",
        "colab": {
          "autoexec": {
            "startup": false,
            "wait_interval": 0
          },
          "output_extras": [
            {}
          ],
          "base_uri": "https://localhost:8080/",
          "height": 68
        },
        "outputId": "cd6c2b9a-8b41-48ac-8f54-fdf95ba8aee0",
        "executionInfo": {
          "status": "ok",
          "timestamp": 1522256449247,
          "user_tz": 180,
          "elapsed": 687,
          "user": {
            "displayName": "Rosana Matuk",
            "photoUrl": "//lh5.googleusercontent.com/-pwKtU543ujw/AAAAAAAAAAI/AAAAAAAAWA8/3iDVQO6IL0w/s50-c-k-no/photo.jpg",
            "userId": "104154383372735234904"
          }
        }
      },
      "cell_type": "code",
      "source": [
        "a = np.array([[1,2], [3, 4], [5, 6]])\n",
        "\n",
        "bool_idx = (a > 2)  # Encuentra los elementos de a que son más grandes que 2;\n",
        "                    # returna un array numpy de Booleanos de la misma forma\n",
        "                    # que a, donde cada posición de bool_idx dice\n",
        "                    # si el elemento de a es > 2.\n",
        "\n",
        "print (bool_idx)"
      ],
      "execution_count": 0,
      "outputs": [
        {
          "output_type": "stream",
          "text": [
            "[[False False]\n",
            " [ True  True]\n",
            " [ True  True]]\n"
          ],
          "name": "stdout"
        }
      ]
    },
    {
      "metadata": {
        "id": "rRvDJXN25q5z",
        "colab_type": "code",
        "colab": {
          "autoexec": {
            "startup": false,
            "wait_interval": 0
          },
          "output_extras": [
            {}
          ],
          "base_uri": "https://localhost:8080/",
          "height": 51
        },
        "outputId": "6ef39c36-1e6d-47aa-c1c6-a326112c872a",
        "executionInfo": {
          "status": "ok",
          "timestamp": 1522256938305,
          "user_tz": 180,
          "elapsed": 682,
          "user": {
            "displayName": "Rosana Matuk",
            "photoUrl": "//lh5.googleusercontent.com/-pwKtU543ujw/AAAAAAAAAAI/AAAAAAAAWA8/3iDVQO6IL0w/s50-c-k-no/photo.jpg",
            "userId": "104154383372735234904"
          }
        }
      },
      "cell_type": "code",
      "source": [
        "# Podemos usar el array de booleanos del ejemplo anterior, para construir un array\n",
        "# que consista de los elementos de a que sean True en bool_idx\n",
        "print (a[bool_idx])\n",
        "\n",
        "# Se puede hacer todo lo anterior con un solo comando:\n",
        "print (a[a > 2])"
      ],
      "execution_count": 0,
      "outputs": [
        {
          "output_type": "stream",
          "text": [
            "[3 4 5 6]\n",
            "[3 4 5 6]\n"
          ],
          "name": "stdout"
        }
      ]
    },
    {
      "metadata": {
        "id": "Xp-dmhK55q51",
        "colab_type": "text"
      },
      "cell_type": "markdown",
      "source": [
        "###Tipos de Datos"
      ]
    },
    {
      "metadata": {
        "id": "I1iAVr005q51",
        "colab_type": "text"
      },
      "cell_type": "markdown",
      "source": [
        "Un array numpy es una grilla de elementos del mismo tipo. Numpy intenta adivinar el tipo de datos cuando se crea el array, pero opcionalmente también se le puede especificar el tipo de datos. Ejemplo:"
      ]
    },
    {
      "metadata": {
        "id": "Jhc1qiWe5q52",
        "colab_type": "code",
        "colab": {
          "autoexec": {
            "startup": false,
            "wait_interval": 0
          },
          "output_extras": [
            {}
          ],
          "base_uri": "https://localhost:8080/",
          "height": 34
        },
        "outputId": "833d7bce-5e24-4219-a539-0ea845ba5216",
        "executionInfo": {
          "status": "ok",
          "timestamp": 1522257441924,
          "user_tz": 180,
          "elapsed": 1044,
          "user": {
            "displayName": "Rosana Matuk",
            "photoUrl": "//lh5.googleusercontent.com/-pwKtU543ujw/AAAAAAAAAAI/AAAAAAAAWA8/3iDVQO6IL0w/s50-c-k-no/photo.jpg",
            "userId": "104154383372735234904"
          }
        }
      },
      "cell_type": "code",
      "source": [
        "x = np.array([1, 2])  # Numpy adivina el tipo de datos\n",
        "y = np.array([1.0, 2.0])  # Numpy adivina el tipo de datos\n",
        "z = np.array([1, 2], dtype=np.int64)  # Fuerza el tipo de datos\n",
        "\n",
        "print (x.dtype, y.dtype, z.dtype)"
      ],
      "execution_count": 0,
      "outputs": [
        {
          "output_type": "stream",
          "text": [
            "int64 float64 int64\n"
          ],
          "name": "stdout"
        }
      ]
    },
    {
      "metadata": {
        "id": "J0krzpaq5q54",
        "colab_type": "text"
      },
      "cell_type": "markdown",
      "source": [
        "###Operaciones matemáticas en Numpy"
      ]
    },
    {
      "metadata": {
        "id": "MB1QONDf5q54",
        "colab_type": "text"
      },
      "cell_type": "markdown",
      "source": [
        "Las funciones matemáticas básicas operan elemento a elemento en el array, y están disponibles tanto como sobrecarga de operadores, y como funciones del módulo numpy:"
      ]
    },
    {
      "metadata": {
        "id": "pqsjtRiM5q54",
        "colab_type": "code",
        "colab": {
          "autoexec": {
            "startup": false,
            "wait_interval": 0
          },
          "output_extras": [
            {}
          ],
          "base_uri": "https://localhost:8080/",
          "height": 85
        },
        "outputId": "36d1bb54-107b-4425-9adc-43be0929762c",
        "executionInfo": {
          "status": "ok",
          "timestamp": 1522261979076,
          "user_tz": 180,
          "elapsed": 674,
          "user": {
            "displayName": "Rosana Matuk",
            "photoUrl": "//lh5.googleusercontent.com/-pwKtU543ujw/AAAAAAAAAAI/AAAAAAAAWA8/3iDVQO6IL0w/s50-c-k-no/photo.jpg",
            "userId": "104154383372735234904"
          }
        }
      },
      "cell_type": "code",
      "source": [
        "x = np.array([[1,2],[3,4]], dtype=np.float64)\n",
        "y = np.array([[5,6],[7,8]], dtype=np.float64)\n",
        "\n",
        "# Suma elemento a elemento; son equivalentes.\n",
        "print (x + y)           # Sobrecarga de operador\n",
        "print (np.add(x, y))    # Función numpy"
      ],
      "execution_count": 0,
      "outputs": [
        {
          "output_type": "stream",
          "text": [
            "[[ 6.  8.]\n",
            " [10. 12.]]\n",
            "[[ 6.  8.]\n",
            " [10. 12.]]\n"
          ],
          "name": "stdout"
        }
      ]
    },
    {
      "metadata": {
        "id": "8lUHQNVL5q58",
        "colab_type": "code",
        "colab": {
          "autoexec": {
            "startup": false,
            "wait_interval": 0
          },
          "output_extras": [
            {}
          ],
          "base_uri": "https://localhost:8080/",
          "height": 85
        },
        "outputId": "64ea66ce-0e51-4f6e-b926-091dca491128",
        "executionInfo": {
          "status": "ok",
          "timestamp": 1522262039268,
          "user_tz": 180,
          "elapsed": 1598,
          "user": {
            "displayName": "Rosana Matuk",
            "photoUrl": "//lh5.googleusercontent.com/-pwKtU543ujw/AAAAAAAAAAI/AAAAAAAAWA8/3iDVQO6IL0w/s50-c-k-no/photo.jpg",
            "userId": "104154383372735234904"
          }
        }
      },
      "cell_type": "code",
      "source": [
        "# Resta elemento a elemento; son equivalentes.\n",
        "print (x - y)\n",
        "print (np.subtract(x, y))"
      ],
      "execution_count": 0,
      "outputs": [
        {
          "output_type": "stream",
          "text": [
            "[[-4. -4.]\n",
            " [-4. -4.]]\n",
            "[[-4. -4.]\n",
            " [-4. -4.]]\n"
          ],
          "name": "stdout"
        }
      ]
    },
    {
      "metadata": {
        "id": "IC8ctFQk5q59",
        "colab_type": "code",
        "colab": {
          "autoexec": {
            "startup": false,
            "wait_interval": 0
          },
          "output_extras": [
            {}
          ],
          "base_uri": "https://localhost:8080/",
          "height": 85
        },
        "outputId": "723682a5-e42c-4fe7-e5b5-59fe9f1febae",
        "executionInfo": {
          "status": "ok",
          "timestamp": 1522262102314,
          "user_tz": 180,
          "elapsed": 840,
          "user": {
            "displayName": "Rosana Matuk",
            "photoUrl": "//lh5.googleusercontent.com/-pwKtU543ujw/AAAAAAAAAAI/AAAAAAAAWA8/3iDVQO6IL0w/s50-c-k-no/photo.jpg",
            "userId": "104154383372735234904"
          }
        }
      },
      "cell_type": "code",
      "source": [
        "# Multiplicación elemento a elemento; son equivalentes.\n",
        "print (x * y)\n",
        "print (np.multiply(x, y))"
      ],
      "execution_count": 0,
      "outputs": [
        {
          "output_type": "stream",
          "text": [
            "[[ 5. 12.]\n",
            " [21. 32.]]\n",
            "[[ 5. 12.]\n",
            " [21. 32.]]\n"
          ],
          "name": "stdout"
        }
      ]
    },
    {
      "metadata": {
        "id": "XXtTacc-5q5_",
        "colab_type": "code",
        "colab": {
          "autoexec": {
            "startup": false,
            "wait_interval": 0
          },
          "output_extras": [
            {}
          ],
          "base_uri": "https://localhost:8080/",
          "height": 85
        },
        "outputId": "b4329f15-73ce-4f80-e2fc-63bf207dc3eb",
        "executionInfo": {
          "status": "ok",
          "timestamp": 1522262330979,
          "user_tz": 180,
          "elapsed": 865,
          "user": {
            "displayName": "Rosana Matuk",
            "photoUrl": "//lh5.googleusercontent.com/-pwKtU543ujw/AAAAAAAAAAI/AAAAAAAAWA8/3iDVQO6IL0w/s50-c-k-no/photo.jpg",
            "userId": "104154383372735234904"
          }
        }
      },
      "cell_type": "code",
      "source": [
        "# División elemento a elemento; son equivalentes.\n",
        "# Producen el siguiente array:\n",
        "# [[ 0.2         0.33333333]\n",
        "#  [ 0.42857143  0.5       ]]\n",
        "print (x / y)\n",
        "print (np.divide(x, y))"
      ],
      "execution_count": 0,
      "outputs": [
        {
          "output_type": "stream",
          "text": [
            "[[0.2        0.33333333]\n",
            " [0.42857143 0.5       ]]\n",
            "[[0.2        0.33333333]\n",
            " [0.42857143 0.5       ]]\n"
          ],
          "name": "stdout"
        }
      ]
    },
    {
      "metadata": {
        "id": "f8mK4UbW5q6A",
        "colab_type": "code",
        "colab": {
          "autoexec": {
            "startup": false,
            "wait_interval": 0
          },
          "output_extras": [
            {}
          ],
          "base_uri": "https://localhost:8080/",
          "height": 51
        },
        "outputId": "e98080c2-4a14-4e6e-abd7-bef0eb904686",
        "executionInfo": {
          "status": "ok",
          "timestamp": 1522262489697,
          "user_tz": 180,
          "elapsed": 687,
          "user": {
            "displayName": "Rosana Matuk",
            "photoUrl": "//lh5.googleusercontent.com/-pwKtU543ujw/AAAAAAAAAAI/AAAAAAAAWA8/3iDVQO6IL0w/s50-c-k-no/photo.jpg",
            "userId": "104154383372735234904"
          }
        }
      },
      "cell_type": "code",
      "source": [
        "# Raíz cuadrada elemento a elemento.\n",
        "# Produce el siguiente array:\n",
        "# [[ 1.          1.41421356]\n",
        "#  [ 1.73205081  2.        ]]\n",
        "print (np.sqrt(x))"
      ],
      "execution_count": 0,
      "outputs": [
        {
          "output_type": "stream",
          "text": [
            "[[1.         1.41421356]\n",
            " [1.73205081 2.        ]]\n"
          ],
          "name": "stdout"
        }
      ]
    },
    {
      "metadata": {
        "id": "gUaJRH_O5q6D",
        "colab_type": "text"
      },
      "cell_type": "markdown",
      "source": [
        "Notar que `*` hace una multiplicación elemento a elemento. La función `dot` sirve para calcular productos internos de vectores, para multiplicar un vector por una matriz, y para multiplicar matrices. `dot` está disponible como una función del módulo numpy y como un método de instancia de los objetos array:"
      ]
    },
    {
      "metadata": {
        "id": "xpax7lRp5q6D",
        "colab_type": "code",
        "colab": {
          "autoexec": {
            "startup": false,
            "wait_interval": 0
          },
          "output_extras": [
            {}
          ],
          "base_uri": "https://localhost:8080/",
          "height": 51
        },
        "outputId": "27986d0b-d9c6-4446-ddd0-a0aa3a056c10",
        "executionInfo": {
          "status": "ok",
          "timestamp": 1522268709602,
          "user_tz": 180,
          "elapsed": 696,
          "user": {
            "displayName": "Rosana Matuk",
            "photoUrl": "//lh5.googleusercontent.com/-pwKtU543ujw/AAAAAAAAAAI/AAAAAAAAWA8/3iDVQO6IL0w/s50-c-k-no/photo.jpg",
            "userId": "104154383372735234904"
          }
        }
      },
      "cell_type": "code",
      "source": [
        "x = np.array([[1,2],[3,4]])\n",
        "y = np.array([[5,6],[7,8]])\n",
        "\n",
        "v = np.array([9,10])\n",
        "w = np.array([11, 12])\n",
        "\n",
        "# Producto interno. Ambos producen 219\n",
        "print (v.dot(w))\n",
        "print (np.dot(v, w))"
      ],
      "execution_count": 0,
      "outputs": [
        {
          "output_type": "stream",
          "text": [
            "219\n",
            "219\n"
          ],
          "name": "stdout"
        }
      ]
    },
    {
      "metadata": {
        "id": "QadKUnk95q6E",
        "colab_type": "code",
        "colab": {
          "autoexec": {
            "startup": false,
            "wait_interval": 0
          },
          "output_extras": [
            {}
          ],
          "base_uri": "https://localhost:8080/",
          "height": 51
        },
        "outputId": "9e64fcfb-19bc-48a8-fe79-7f9392a8e15c",
        "executionInfo": {
          "status": "ok",
          "timestamp": 1522268711209,
          "user_tz": 180,
          "elapsed": 676,
          "user": {
            "displayName": "Rosana Matuk",
            "photoUrl": "//lh5.googleusercontent.com/-pwKtU543ujw/AAAAAAAAAAI/AAAAAAAAWA8/3iDVQO6IL0w/s50-c-k-no/photo.jpg",
            "userId": "104154383372735234904"
          }
        }
      },
      "cell_type": "code",
      "source": [
        "# Producto Matrix / vector; ambos producen el array [29 67]\n",
        "print (x.dot(v))\n",
        "print (np.dot(x, v))"
      ],
      "execution_count": 0,
      "outputs": [
        {
          "output_type": "stream",
          "text": [
            "[29 67]\n",
            "[29 67]\n"
          ],
          "name": "stdout"
        }
      ]
    },
    {
      "metadata": {
        "id": "sIb3tp555q6G",
        "colab_type": "code",
        "colab": {
          "autoexec": {
            "startup": false,
            "wait_interval": 0
          },
          "output_extras": [
            {}
          ],
          "base_uri": "https://localhost:8080/",
          "height": 85
        },
        "outputId": "cb17e6b2-24f2-492d-b03c-a4b62a1bb81f",
        "executionInfo": {
          "status": "ok",
          "timestamp": 1522268712760,
          "user_tz": 180,
          "elapsed": 686,
          "user": {
            "displayName": "Rosana Matuk",
            "photoUrl": "//lh5.googleusercontent.com/-pwKtU543ujw/AAAAAAAAAAI/AAAAAAAAWA8/3iDVQO6IL0w/s50-c-k-no/photo.jpg",
            "userId": "104154383372735234904"
          }
        }
      },
      "cell_type": "code",
      "source": [
        "# Producto matrix / matrix; ambos producen el array de rango 2\n",
        "# [[19 22]\n",
        "#  [43 50]]\n",
        "print (x.dot(y))\n",
        "print (np.dot(x, y))"
      ],
      "execution_count": 0,
      "outputs": [
        {
          "output_type": "stream",
          "text": [
            "[[19 22]\n",
            " [43 50]]\n",
            "[[19 22]\n",
            " [43 50]]\n"
          ],
          "name": "stdout"
        }
      ]
    },
    {
      "metadata": {
        "id": "IE5yrZG45q6H",
        "colab_type": "text"
      },
      "cell_type": "markdown",
      "source": [
        "Numpy provee muchas funciones útiles para hacer cómputos en arrays; una de las más útiles es \n",
        "`sum`:"
      ]
    },
    {
      "metadata": {
        "id": "y5K4V28p5q6I",
        "colab_type": "code",
        "colab": {
          "autoexec": {
            "startup": false,
            "wait_interval": 0
          },
          "output_extras": [
            {}
          ],
          "base_uri": "https://localhost:8080/",
          "height": 68
        },
        "outputId": "db26e8e8-8a56-4860-8026-b5a481b16411",
        "executionInfo": {
          "status": "ok",
          "timestamp": 1522269161242,
          "user_tz": 180,
          "elapsed": 698,
          "user": {
            "displayName": "Rosana Matuk",
            "photoUrl": "//lh5.googleusercontent.com/-pwKtU543ujw/AAAAAAAAAAI/AAAAAAAAWA8/3iDVQO6IL0w/s50-c-k-no/photo.jpg",
            "userId": "104154383372735234904"
          }
        }
      },
      "cell_type": "code",
      "source": [
        "x = np.array([[1,2],[3,4]])\n",
        "\n",
        "print (np.sum(x))  # Computa la suma de todos los elementos; imprime \"10\"\n",
        "print (np.sum(x, axis=0))  # Computa la suma de cada columna; imprime \"[4 6]\"\n",
        "print (np.sum(x, axis=1))  # Compute la suma de cada fila; imprime \"[3 7]\""
      ],
      "execution_count": 0,
      "outputs": [
        {
          "output_type": "stream",
          "text": [
            "10\n",
            "[4 6]\n",
            "[3 7]\n"
          ],
          "name": "stdout"
        }
      ]
    },
    {
      "metadata": {
        "id": "TOEJPgkk5q6K",
        "colab_type": "text"
      },
      "cell_type": "markdown",
      "source": [
        "Para transponer una matriz, usamos el atributo T del objeto array:"
      ]
    },
    {
      "metadata": {
        "id": "1NhZkHCm5q6K",
        "colab_type": "code",
        "colab": {
          "autoexec": {
            "startup": false,
            "wait_interval": 0
          },
          "output_extras": [
            {}
          ],
          "base_uri": "https://localhost:8080/",
          "height": 85
        },
        "outputId": "9acce2f1-489e-411a-e419-c46faffb0458",
        "executionInfo": {
          "status": "ok",
          "timestamp": 1522269450987,
          "user_tz": 180,
          "elapsed": 850,
          "user": {
            "displayName": "Rosana Matuk",
            "photoUrl": "//lh5.googleusercontent.com/-pwKtU543ujw/AAAAAAAAAAI/AAAAAAAAWA8/3iDVQO6IL0w/s50-c-k-no/photo.jpg",
            "userId": "104154383372735234904"
          }
        }
      },
      "cell_type": "code",
      "source": [
        "print (x)\n",
        "print (x.T)"
      ],
      "execution_count": 0,
      "outputs": [
        {
          "output_type": "stream",
          "text": [
            "[[1 2]\n",
            " [3 4]]\n",
            "[[1 3]\n",
            " [2 4]]\n"
          ],
          "name": "stdout"
        }
      ]
    },
    {
      "metadata": {
        "id": "GCCJQ-835q6M",
        "colab_type": "code",
        "colab": {
          "autoexec": {
            "startup": false,
            "wait_interval": 0
          },
          "output_extras": [
            {}
          ],
          "base_uri": "https://localhost:8080/",
          "height": 85
        },
        "outputId": "c187a53b-4bdd-4cb3-ccd8-4eba55d8ebbf",
        "executionInfo": {
          "status": "ok",
          "timestamp": 1522269452614,
          "user_tz": 180,
          "elapsed": 696,
          "user": {
            "displayName": "Rosana Matuk",
            "photoUrl": "//lh5.googleusercontent.com/-pwKtU543ujw/AAAAAAAAAAI/AAAAAAAAWA8/3iDVQO6IL0w/s50-c-k-no/photo.jpg",
            "userId": "104154383372735234904"
          }
        }
      },
      "cell_type": "code",
      "source": [
        "v = np.array([[1,2,3]])\n",
        "print (v) \n",
        "print (v.T)"
      ],
      "execution_count": 0,
      "outputs": [
        {
          "output_type": "stream",
          "text": [
            "[[1 2 3]]\n",
            "[[1]\n",
            " [2]\n",
            " [3]]\n"
          ],
          "name": "stdout"
        }
      ]
    },
    {
      "metadata": {
        "id": "KKs6Yd7ZVA8m",
        "colab_type": "text"
      },
      "cell_type": "markdown",
      "source": [
        "La lista completa de funciones matemáticas de numpy se puede consultar en la [documentación](http://docs.scipy.org/doc/numpy/reference/routines.math.html)."
      ]
    },
    {
      "metadata": {
        "id": "98-AIk6u5q6O",
        "colab_type": "text"
      },
      "cell_type": "markdown",
      "source": [
        "### Broadcasting"
      ]
    },
    {
      "metadata": {
        "id": "ihjioOGn5q6O",
        "colab_type": "text"
      },
      "cell_type": "markdown",
      "source": [
        "Broadcasting es un mecanismo poderoso que nos permite operar con arrays de diferentes formas. Frecuentemente tenemos un array más pequeño y un array más grande, y queremos utilizar el array más pequeño múltiples veces para hacer alguna operación sobre el array más grande.\n",
        "\n",
        "Por ejemplo, supongamos que queremos sumar un vector constante a cada fila de una matriz:"
      ]
    },
    {
      "metadata": {
        "id": "DPtd0SVC5q6O",
        "colab_type": "code",
        "colab": {
          "autoexec": {
            "startup": false,
            "wait_interval": 0
          },
          "output_extras": [
            {}
          ],
          "base_uri": "https://localhost:8080/",
          "height": 85
        },
        "outputId": "d277ff2c-b4ac-4a65-bf00-8483e4ee2c62",
        "executionInfo": {
          "status": "ok",
          "timestamp": 1522272484220,
          "user_tz": 180,
          "elapsed": 690,
          "user": {
            "displayName": "Rosana Matuk",
            "photoUrl": "//lh5.googleusercontent.com/-pwKtU543ujw/AAAAAAAAAAI/AAAAAAAAWA8/3iDVQO6IL0w/s50-c-k-no/photo.jpg",
            "userId": "104154383372735234904"
          }
        }
      },
      "cell_type": "code",
      "source": [
        "# Sumaremos el vector v a cada fila de la matriz x,\n",
        "# almacenando el resultado en la matriz y\n",
        "x = np.array([[1,2,3], [4,5,6], [7,8,9], [10, 11, 12]])\n",
        "v = np.array([1, 0, 1])\n",
        "y = np.empty_like(x)   # Crea una matriz vacía de la misma forma que x\n",
        "\n",
        "# Suma el vector v a cada fila de la matriz x con un loop\n",
        "for i in range(4):\n",
        "    y[i, :] = x[i, :] + v\n",
        "\n",
        "print (y)"
      ],
      "execution_count": 0,
      "outputs": [
        {
          "output_type": "stream",
          "text": [
            "[[ 2  2  4]\n",
            " [ 5  5  7]\n",
            " [ 8  8 10]\n",
            " [11 11 13]]\n"
          ],
          "name": "stdout"
        }
      ]
    },
    {
      "metadata": {
        "id": "V6krlZtE5q6Q",
        "colab_type": "text"
      },
      "cell_type": "markdown",
      "source": [
        "Lo anterior funciona; sin embargo, cuando la matriz `x` es muy grande, computar con un loop explícito en Pyton puede ser muy lento. Notar que sumar el vector v a cada fila de la matrix `x` es equivalente a formar una matrix `vv` apilando múltiples copias de `v`, y haciendo luego una suma elemento a elemento de `x` y `vv`:"
      ]
    },
    {
      "metadata": {
        "id": "iACv1y1O5q6R",
        "colab_type": "code",
        "colab": {
          "autoexec": {
            "startup": false,
            "wait_interval": 0
          },
          "output_extras": [
            {}
          ],
          "base_uri": "https://localhost:8080/",
          "height": 85
        },
        "outputId": "1099aeba-a30e-44a3-c712-858dc300e490",
        "executionInfo": {
          "status": "ok",
          "timestamp": 1522272786618,
          "user_tz": 180,
          "elapsed": 675,
          "user": {
            "displayName": "Rosana Matuk",
            "photoUrl": "//lh5.googleusercontent.com/-pwKtU543ujw/AAAAAAAAAAI/AAAAAAAAWA8/3iDVQO6IL0w/s50-c-k-no/photo.jpg",
            "userId": "104154383372735234904"
          }
        }
      },
      "cell_type": "code",
      "source": [
        "vv = np.tile(v, (4, 1))  # Apilamos 4 copias de v\n",
        "print (vv)               # Imprime \"[[1 0 1]\n",
        "                         #           [1 0 1]\n",
        "                         #           [1 0 1]\n",
        "                         #           [1 0 1]]\""
      ],
      "execution_count": 0,
      "outputs": [
        {
          "output_type": "stream",
          "text": [
            "[[1 0 1]\n",
            " [1 0 1]\n",
            " [1 0 1]\n",
            " [1 0 1]]\n"
          ],
          "name": "stdout"
        }
      ]
    },
    {
      "metadata": {
        "id": "e9VwkQ4v5q6S",
        "colab_type": "code",
        "colab": {
          "autoexec": {
            "startup": false,
            "wait_interval": 0
          },
          "output_extras": [
            {}
          ],
          "base_uri": "https://localhost:8080/",
          "height": 85
        },
        "outputId": "0c6212e5-9e18-4748-836e-627392fe2043",
        "executionInfo": {
          "status": "ok",
          "timestamp": 1522272851750,
          "user_tz": 180,
          "elapsed": 729,
          "user": {
            "displayName": "Rosana Matuk",
            "photoUrl": "//lh5.googleusercontent.com/-pwKtU543ujw/AAAAAAAAAAI/AAAAAAAAWA8/3iDVQO6IL0w/s50-c-k-no/photo.jpg",
            "userId": "104154383372735234904"
          }
        }
      },
      "cell_type": "code",
      "source": [
        "y = x + vv  # Suma x y vv elemento a elemento\n",
        "print (y)"
      ],
      "execution_count": 0,
      "outputs": [
        {
          "output_type": "stream",
          "text": [
            "[[ 2  2  4]\n",
            " [ 5  5  7]\n",
            " [ 8  8 10]\n",
            " [11 11 13]]\n"
          ],
          "name": "stdout"
        }
      ]
    },
    {
      "metadata": {
        "id": "SjJw6Plx5q6U",
        "colab_type": "text"
      },
      "cell_type": "markdown",
      "source": [
        "El broadcasting de Numpy nos permite realizar todo este cómputo sin la necesidad de crear múltiples copias de v. Considere esta nueva versión, usando broadcasting:"
      ]
    },
    {
      "metadata": {
        "id": "CKBoLNJg5q6U",
        "colab_type": "code",
        "colab": {
          "autoexec": {
            "startup": false,
            "wait_interval": 0
          },
          "output_extras": [
            {}
          ],
          "base_uri": "https://localhost:8080/",
          "height": 119
        },
        "outputId": "42068a0d-4dff-4436-9609-5ac273b9a643",
        "executionInfo": {
          "status": "ok",
          "timestamp": 1522275123412,
          "user_tz": 180,
          "elapsed": 1618,
          "user": {
            "displayName": "Rosana Matuk",
            "photoUrl": "//lh5.googleusercontent.com/-pwKtU543ujw/AAAAAAAAAAI/AAAAAAAAWA8/3iDVQO6IL0w/s50-c-k-no/photo.jpg",
            "userId": "104154383372735234904"
          }
        }
      },
      "cell_type": "code",
      "source": [
        "import numpy as np\n",
        "\n",
        "# Sumaremos el vector v a cada fila de la matriz x,\n",
        "# almacenando el resultado en la matriz y\n",
        "x = np.array([[1,2,3], [4,5,6], [7,8,9], [10, 11, 12]])\n",
        "v = np.array([1, 0, 1])\n",
        "print (x.ndim, x.shape) # Rango y forma\n",
        "print (v.ndim, v.shape)\n",
        "y = x + v  # Suma v a cada fila de x usando broadcasting\n",
        "print (y)"
      ],
      "execution_count": 0,
      "outputs": [
        {
          "output_type": "stream",
          "text": [
            "2 (4, 3)\n",
            "1 (3,)\n",
            "[[ 2  2  4]\n",
            " [ 5  5  7]\n",
            " [ 8  8 10]\n",
            " [11 11 13]]\n"
          ],
          "name": "stdout"
        }
      ]
    },
    {
      "metadata": {
        "id": "3n0cLWAw5q6V",
        "colab_type": "text"
      },
      "cell_type": "markdown",
      "source": [
        "El comando `y = x + v` funciona aunque `x` tenga forma `(4, 3)` y `v` tenga forma `(3,)` debido al broadcasting; este comando trabaja como si v tuviese la forma `(4, 3)`, donde cada fila es una copia de `v`, y la suma hubiese sido hecho elemento a elemento.\n",
        "\n",
        "Reglas del Broadcasting:\n",
        "\n",
        "1. Si los arrays no tienen el mismo rango, agrandar por adelante con 1s la forma del array de menor rango, hasta que ambos arrays tengan el mismo rango.\n",
        "2. Dos arrays son compatibles en una dimension, si ellos tienen el mismo tamaño en esa dimensión, o si uno de los arrays tiene tamaño 1 en esa dimensión.\n",
        "3. Los arrays pueden ser broadcasteados juntos si son compatibles en todas las dimensiones.\n",
        "4. Después del broadcasting, cada array se comporta como si tuviese forma igual al máximo elemento de las formas en cada una de las dimensiones de los dos arrays de entrada.\n",
        "5. En cualquier dimensión donde un array tuviese la forma 1 y el otro array tuviese forma mayor que 1, el primer array se comporta como si fuese copiado en esa dimensión. \n",
        "\n",
        "Si no les queda muy claro el tema del broadcasting, lean la [documentación](http://docs.scipy.org/doc/numpy/user/basics.broadcasting.html) o esta [explicación](http://wiki.scipy.org/EricsBroadcastingDoc).\n",
        "\n",
        "Las funciones que soportan broadcasting son conocidas como funciones universales. Pueden encontrar la lista de todas las funciones universales en la [documentación](http://docs.scipy.org/doc/numpy/reference/ufuncs.html#available-ufuncs).\n",
        "\n",
        "Algunas aplicaciones del broadcasting:"
      ]
    },
    {
      "metadata": {
        "id": "8lsu4IME5q6W",
        "colab_type": "code",
        "colab": {
          "autoexec": {
            "startup": false,
            "wait_interval": 0
          },
          "output_extras": [
            {}
          ],
          "base_uri": "https://localhost:8080/",
          "height": 68
        },
        "outputId": "2d2b02d4-ff6d-458a-b59d-3ba65c0a4783",
        "executionInfo": {
          "status": "ok",
          "timestamp": 1522281803650,
          "user_tz": 180,
          "elapsed": 674,
          "user": {
            "displayName": "Rosana Matuk",
            "photoUrl": "//lh5.googleusercontent.com/-pwKtU543ujw/AAAAAAAAAAI/AAAAAAAAWA8/3iDVQO6IL0w/s50-c-k-no/photo.jpg",
            "userId": "104154383372735234904"
          }
        }
      },
      "cell_type": "code",
      "source": [
        "# Computar el producto externo de vectores\n",
        "v = np.array([1,2,3])  # v tiene forma (3,) y rango 1\n",
        "w = np.array([4,5])    # w tiene forma (2,) y rango 1\n",
        "# Para computar el producto externo, primero cambiamos la forma de v a un vector\n",
        "# columna de forma (3, 1), y entonces su rango ahora será 2. Cuando hacemos el \n",
        "# broadcast contra w, w tiene rango 1. Entonces, como debe ser del mismo rango que v, \n",
        "# w agrega 1s por delante a su forma, para alcanzar el rango 2, y será de la forma (1,2). \n",
        "# Luego, ambos crecen para tener forma igual al máximo de los elementos en cada dimensión,\n",
        "# y entonces ambos tendrán forma (3,2). Luego, v y w hacen multiplicación elemento a elemento,\n",
        "# y se produce una salida de la forma (3, 2), que es el producto externo de v y w:\n",
        "\n",
        "print (np.reshape(v, (3, 1)) * w)"
      ],
      "execution_count": 0,
      "outputs": [
        {
          "output_type": "stream",
          "text": [
            "[[ 4  5]\n",
            " [ 8 10]\n",
            " [12 15]]\n"
          ],
          "name": "stdout"
        }
      ]
    },
    {
      "metadata": {
        "id": "-orCUm6c5q6X",
        "colab_type": "code",
        "colab": {
          "autoexec": {
            "startup": false,
            "wait_interval": 0
          },
          "output_extras": [
            {}
          ],
          "base_uri": "https://localhost:8080/",
          "height": 85
        },
        "outputId": "a2de07d1-eb7b-424e-8213-8c6c749853a9",
        "executionInfo": {
          "status": "ok",
          "timestamp": 1522282466383,
          "user_tz": 180,
          "elapsed": 676,
          "user": {
            "displayName": "Rosana Matuk",
            "photoUrl": "//lh5.googleusercontent.com/-pwKtU543ujw/AAAAAAAAAAI/AAAAAAAAWA8/3iDVQO6IL0w/s50-c-k-no/photo.jpg",
            "userId": "104154383372735234904"
          }
        }
      },
      "cell_type": "code",
      "source": [
        "# Agregar un vector a cada fila de una matriz\n",
        "x = np.array([[1,2,3], [4,5,6]])\n",
        "# x tiene forma (2, 3) y v tiene forma (3,) así que ellos broadcastean a (2, 3):\n",
        "\n",
        "print (x.shape)\n",
        "print(v.shape)\n",
        "print (x + v)"
      ],
      "execution_count": 0,
      "outputs": [
        {
          "output_type": "stream",
          "text": [
            "(2, 3)\n",
            "(3,)\n",
            "[[2 4 6]\n",
            " [5 7 9]]\n"
          ],
          "name": "stdout"
        }
      ]
    },
    {
      "metadata": {
        "id": "fAuY02dP5q6b",
        "colab_type": "code",
        "colab": {
          "autoexec": {
            "startup": false,
            "wait_interval": 0
          },
          "output_extras": [
            {}
          ],
          "base_uri": "https://localhost:8080/",
          "height": 102
        },
        "outputId": "bfe2037b-237d-447b-d644-3ea0892f3132",
        "executionInfo": {
          "status": "ok",
          "timestamp": 1522282945879,
          "user_tz": 180,
          "elapsed": 669,
          "user": {
            "displayName": "Rosana Matuk",
            "photoUrl": "//lh5.googleusercontent.com/-pwKtU543ujw/AAAAAAAAAAI/AAAAAAAAWA8/3iDVQO6IL0w/s50-c-k-no/photo.jpg",
            "userId": "104154383372735234904"
          }
        }
      },
      "cell_type": "code",
      "source": [
        "# Sumar un vector a cada columna de una matriz\n",
        "# x tiene forma (2, 3) y w tiene forma (2,).\n",
        "# Si transponemos x entonces tendrá la forma (3, 2) and se puede hacer broadcast\n",
        "# contra w para producir un resultado de la forma (3, 2); transponiendo este resultado\n",
        "# se produce el resultado final de la forma (2, 3) que es la matriz x con el \n",
        "# vector w agregado a cada columna.\n",
        "\n",
        "print (x)\n",
        "print (w)\n",
        "print ((x.T + w).T)"
      ],
      "execution_count": 0,
      "outputs": [
        {
          "output_type": "stream",
          "text": [
            "[[1 2 3]\n",
            " [4 5 6]]\n",
            "[4 5]\n",
            "[[ 5  6  7]\n",
            " [ 9 10 11]]\n"
          ],
          "name": "stdout"
        }
      ]
    },
    {
      "metadata": {
        "id": "hMzxU0GW5q6c",
        "colab_type": "code",
        "colab": {
          "autoexec": {
            "startup": false,
            "wait_interval": 0
          },
          "output_extras": [
            {}
          ],
          "base_uri": "https://localhost:8080/",
          "height": 51
        },
        "outputId": "4b6ff400-679e-4fc3-8886-c4ed9bd309d5",
        "executionInfo": {
          "status": "ok",
          "timestamp": 1522283200666,
          "user_tz": 180,
          "elapsed": 663,
          "user": {
            "displayName": "Rosana Matuk",
            "photoUrl": "//lh5.googleusercontent.com/-pwKtU543ujw/AAAAAAAAAAI/AAAAAAAAWA8/3iDVQO6IL0w/s50-c-k-no/photo.jpg",
            "userId": "104154383372735234904"
          }
        }
      },
      "cell_type": "code",
      "source": [
        "# Otra solución es cambiar la forma de w a un vector fila de forma (2, 1);\n",
        "# podemos entonces broadcastearlo contra x para producir la misma salida.\n",
        "print (x + np.reshape(w, (2, 1)))"
      ],
      "execution_count": 0,
      "outputs": [
        {
          "output_type": "stream",
          "text": [
            "[[ 5  6  7]\n",
            " [ 9 10 11]]\n"
          ],
          "name": "stdout"
        }
      ]
    },
    {
      "metadata": {
        "id": "jGCfbEhK5q6d",
        "colab_type": "code",
        "colab": {
          "autoexec": {
            "startup": false,
            "wait_interval": 0
          },
          "output_extras": [
            {}
          ],
          "base_uri": "https://localhost:8080/",
          "height": 51
        },
        "outputId": "e229f1b4-4254-49c4-d194-e0fd8b65e32c",
        "executionInfo": {
          "status": "ok",
          "timestamp": 1522283405814,
          "user_tz": 180,
          "elapsed": 675,
          "user": {
            "displayName": "Rosana Matuk",
            "photoUrl": "//lh5.googleusercontent.com/-pwKtU543ujw/AAAAAAAAAAI/AAAAAAAAWA8/3iDVQO6IL0w/s50-c-k-no/photo.jpg",
            "userId": "104154383372735234904"
          }
        }
      },
      "cell_type": "code",
      "source": [
        "# Multiplicar una matriz por una constante:\n",
        "# x tiene forma (2, 3). Numpy trata escalares como arrays de forma ();\n",
        "# estos pueden ser broadcasteados a la forma (2, 3), produciendo el\n",
        "# siguiente array:\n",
        "print (x * 2)"
      ],
      "execution_count": 0,
      "outputs": [
        {
          "output_type": "stream",
          "text": [
            "[[ 2  4  6]\n",
            " [ 8 10 12]]\n"
          ],
          "name": "stdout"
        }
      ]
    },
    {
      "metadata": {
        "id": "4srkWKOE5q6f",
        "colab_type": "text"
      },
      "cell_type": "markdown",
      "source": [
        "*Broadcasting* usualmente hace que el código sea más conciso y más rápido, así que úsenlo donde se pueda."
      ]
    },
    {
      "metadata": {
        "id": "vdNrBYZK5q6f",
        "colab_type": "text"
      },
      "cell_type": "markdown",
      "source": [
        "Para saber más de numpy, chequeen la [documentación oficial de numpy](http://docs.scipy.org/doc/numpy/reference/)."
      ]
    },
    {
      "metadata": {
        "id": "UKm2hzgz5q6f",
        "colab_type": "text"
      },
      "cell_type": "markdown",
      "source": [
        "##Matplotlib"
      ]
    },
    {
      "metadata": {
        "id": "VDFgGJz45q6g",
        "colab_type": "text"
      },
      "cell_type": "markdown",
      "source": [
        "Matplotlib es una librería para graficar. En esta sección veremos una introducción al módulo `matplotlib.pyplot`."
      ]
    },
    {
      "metadata": {
        "id": "0bTVXB7L5q6g",
        "colab_type": "code",
        "colab": {
          "autoexec": {
            "startup": false,
            "wait_interval": 0
          }
        }
      },
      "cell_type": "code",
      "source": [
        "import matplotlib.pyplot as plt"
      ],
      "execution_count": 0,
      "outputs": []
    },
    {
      "metadata": {
        "id": "ELWE3_9J5q6h",
        "colab_type": "text"
      },
      "cell_type": "markdown",
      "source": [
        "Corriendo este comando especial de iPython, veremos los gráficos en el navegador del Jupyter notebook:"
      ]
    },
    {
      "metadata": {
        "id": "H0vjMgyu5q6h",
        "colab_type": "code",
        "colab": {
          "autoexec": {
            "startup": false,
            "wait_interval": 0
          }
        }
      },
      "cell_type": "code",
      "source": [
        "%matplotlib inline"
      ],
      "execution_count": 0,
      "outputs": []
    },
    {
      "metadata": {
        "id": "EQMkKaNH5q6j",
        "colab_type": "text"
      },
      "cell_type": "markdown",
      "source": [
        "###Graficando"
      ]
    },
    {
      "metadata": {
        "id": "biPNrc5O5q6j",
        "colab_type": "text"
      },
      "cell_type": "markdown",
      "source": [
        "La función más importante en  `matplotlib` es plot, que permite graficar datos 2D. Ejemplo:"
      ]
    },
    {
      "metadata": {
        "id": "bw_DJK-E5q6j",
        "colab_type": "code",
        "colab": {
          "autoexec": {
            "startup": false,
            "wait_interval": 0
          },
          "output_extras": [
            {},
            {}
          ],
          "base_uri": "https://localhost:8080/",
          "height": 282
        },
        "outputId": "9c9b4b4a-5ca2-4acf-da2b-efdbbcd8be50",
        "executionInfo": {
          "status": "ok",
          "timestamp": 1522283978855,
          "user_tz": 180,
          "elapsed": 1044,
          "user": {
            "displayName": "Rosana Matuk",
            "photoUrl": "//lh5.googleusercontent.com/-pwKtU543ujw/AAAAAAAAAAI/AAAAAAAAWA8/3iDVQO6IL0w/s50-c-k-no/photo.jpg",
            "userId": "104154383372735234904"
          }
        }
      },
      "cell_type": "code",
      "source": [
        "# Computa las coordenadas x, y para los puntos en una curva seno\n",
        "x = np.arange(0, 3 * np.pi, 0.1)\n",
        "y = np.sin(x)\n",
        "\n",
        "# Grafica los puntos usando matplotlib\n",
        "plt.plot(x, y)"
      ],
      "execution_count": 0,
      "outputs": [
        {
          "output_type": "execute_result",
          "data": {
            "text/plain": [
              "[<matplotlib.lines.Line2D at 0x7fa6f01b3908>]"
            ]
          },
          "metadata": {
            "tags": []
          },
          "execution_count": 44
        },
        {
          "output_type": "display_data",
          "data": {
            "image/png": "[encoded data removed]",
            "text/plain": [
              "<matplotlib.figure.Figure at 0x7fa6f2151e48>"
            ]
          },
          "metadata": {
            "tags": []
          }
        }
      ]
    },
    {
      "metadata": {
        "id": "7i9nqVNL5q6l",
        "colab_type": "text"
      },
      "cell_type": "markdown",
      "source": [
        "Con un poco de trabajo extra, podemos graficar múltiples funciones a la vez, y agregar un título, una leyenda, y nombre a los ejes:"
      ]
    },
    {
      "metadata": {
        "id": "v96UGlPT5q6l",
        "colab_type": "code",
        "colab": {
          "autoexec": {
            "startup": false,
            "wait_interval": 0
          },
          "output_extras": [
            {},
            {}
          ],
          "base_uri": "https://localhost:8080/",
          "height": 311
        },
        "outputId": "b6dcce30-2d81-4799-fdd7-fbff65e30150",
        "executionInfo": {
          "status": "ok",
          "timestamp": 1522284381818,
          "user_tz": 180,
          "elapsed": 803,
          "user": {
            "displayName": "Rosana Matuk",
            "photoUrl": "//lh5.googleusercontent.com/-pwKtU543ujw/AAAAAAAAAAI/AAAAAAAAWA8/3iDVQO6IL0w/s50-c-k-no/photo.jpg",
            "userId": "104154383372735234904"
          }
        }
      },
      "cell_type": "code",
      "source": [
        "y_cos = np.cos(x)\n",
        "\n",
        "# Grafica los puntos usando matplotlib\n",
        "plt.plot(x, y)\n",
        "plt.plot(x, y_cos)\n",
        "plt.xlabel('Eje x')\n",
        "plt.ylabel('Eje y')\n",
        "plt.title('Seno y Coseno')\n",
        "plt.legend(['Función Seno', 'Función Coseno'])"
      ],
      "execution_count": 0,
      "outputs": [
        {
          "output_type": "execute_result",
          "data": {
            "text/plain": [
              "<matplotlib.legend.Legend at 0x7fa6eded4b38>"
            ]
          },
          "metadata": {
            "tags": []
          },
          "execution_count": 49
        },
        {
          "output_type": "display_data",
          "data": {
            "image/png": "[encoded data removed]",
            "text/plain": [
              "<matplotlib.figure.Figure at 0x7fa6edf325c0>"
            ]
          },
          "metadata": {
            "tags": []
          }
        }
      ]
    },
    {
      "metadata": {
        "id": "jJCY7j3Y5q6p",
        "colab_type": "text"
      },
      "cell_type": "markdown",
      "source": [
        "###Gráficos compuestos "
      ]
    },
    {
      "metadata": {
        "id": "vPAoU6yZ5q6q",
        "colab_type": "text"
      },
      "cell_type": "markdown",
      "source": [
        "Se pueden poner muchos gráficos en la misma figura usando la función subplot."
      ]
    },
    {
      "metadata": {
        "id": "Lhgz6eYq5q6q",
        "colab_type": "code",
        "colab": {
          "autoexec": {
            "startup": false,
            "wait_interval": 0
          },
          "output_extras": [
            {}
          ],
          "base_uri": "https://localhost:8080/",
          "height": 280
        },
        "outputId": "f1756179-d20b-4879-94ee-a8713e44bc34",
        "executionInfo": {
          "status": "ok",
          "timestamp": 1522284833383,
          "user_tz": 180,
          "elapsed": 865,
          "user": {
            "displayName": "Rosana Matuk",
            "photoUrl": "//lh5.googleusercontent.com/-pwKtU543ujw/AAAAAAAAAAI/AAAAAAAAWA8/3iDVQO6IL0w/s50-c-k-no/photo.jpg",
            "userId": "104154383372735234904"
          }
        }
      },
      "cell_type": "code",
      "source": [
        "# Computa las coordenadas x, y para puntos en las curvas seno y coseno\n",
        "x = np.arange(0, 3 * np.pi, 0.1)\n",
        "y_sin = np.sin(x)\n",
        "y_cos = np.cos(x)\n",
        "\n",
        "# Hace una grilla de gráficos compuestos que tiene altura 2 y ancho 1,\n",
        "# y pone al primero de los subgráficos como activo.\n",
        "plt.subplot(2, 1, 1)\n",
        "\n",
        "# Dibuja el primer gráfico\n",
        "plt.plot(x, y_sin)\n",
        "plt.title('Seno')\n",
        "\n",
        "# Pone como activo el segundo subgráfico, y hace el segundo dibujo.\n",
        "plt.subplot(2, 1, 2)\n",
        "plt.plot(x, y_cos)\n",
        "plt.title('Coseno')\n",
        "\n",
        "# Muestra el gráfico.\n",
        "plt.show()"
      ],
      "execution_count": 0,
      "outputs": [
        {
          "output_type": "display_data",
          "data": {
            "image/png": "[encoded data removed]",
            "text/plain": [
              "<matplotlib.figure.Figure at 0x7fa6ee13fef0>"
            ]
          },
          "metadata": {
            "tags": []
          }
        }
      ]
    },
    {
      "metadata": {
        "id": "nCEH5MGI5q6s",
        "colab_type": "text"
      },
      "cell_type": "markdown",
      "source": [
        "Para más detalles sobre la función `subplot` pueden leer la [documentación](http://matplotlib.org/api/pyplot_api.html#matplotlib.pyplot.subplot)."
      ]
    },
    {
      "metadata": {
        "id": "6mObYgBb55Ug",
        "colab_type": "text"
      },
      "cell_type": "markdown",
      "source": [
        "# Agradecimientos\n",
        "\n",
        "Este tutorial es una versión traducida y adaptada por Rosana Matuk del tutorial de Python de la escuela *Deep Learning Indaba 2017*, el cual fue basado en el tutorial de Python de [Volodymyr Kuleshov](http://web.stanford.edu/~kuleshov/) y [Isaac Caswell](https://symsys.stanford.edu/viewing/symsysaffiliate/21335), el cual a su vez fue basado en el tutorial de Python original del curso `CS231n` de la Universidad de Stanford, realizado por Justin Johnson (http://cs231n.github.io/python-numpy-tutorial/)."
      ]
    }
  ]
}